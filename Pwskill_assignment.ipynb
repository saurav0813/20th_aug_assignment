{
 "cells": [
  {
   "cell_type": "markdown",
   "metadata": {},
   "source": [
    "1. Write a program to reverse a string"
   ]
  },
  {
   "cell_type": "code",
   "execution_count": 3,
   "metadata": {},
   "outputs": [
    {
     "name": "stdout",
     "output_type": "stream",
     "text": [
      "varuaS\n"
     ]
    }
   ],
   "source": [
    "def reverse_string(s):\n",
    "    return s[::-1]\n",
    "s  = input(\"enter the string: \")\n",
    "print(reverse_string(s))"
   ]
  },
  {
   "cell_type": "markdown",
   "metadata": {},
   "source": [
    "2. Check if a string is a palindrome."
   ]
  },
  {
   "cell_type": "code",
   "execution_count": 4,
   "metadata": {},
   "outputs": [
    {
     "name": "stdout",
     "output_type": "stream",
     "text": [
      "True\n"
     ]
    }
   ],
   "source": [
    "def is_palindrome(s):\n",
    "    return s == s[::-1]\n",
    "s = input(\"enter the string: \")\n",
    "print(is_palindrome(s))"
   ]
  },
  {
   "cell_type": "markdown",
   "metadata": {},
   "source": [
    "3. Convert a string to uppercase."
   ]
  },
  {
   "cell_type": "code",
   "execution_count": 5,
   "metadata": {},
   "outputs": [
    {
     "name": "stdout",
     "output_type": "stream",
     "text": [
      "PW SKILLS\n"
     ]
    }
   ],
   "source": [
    "def str_upper(s):\n",
    "    return s.upper()\n",
    "s = 'pw skills'\n",
    "print(str_upper(s))"
   ]
  },
  {
   "cell_type": "markdown",
   "metadata": {},
   "source": [
    "4. Convert a string to lowercase."
   ]
  },
  {
   "cell_type": "code",
   "execution_count": 6,
   "metadata": {},
   "outputs": [
    {
     "name": "stdout",
     "output_type": "stream",
     "text": [
      "pw skills\n"
     ]
    }
   ],
   "source": [
    "def str_lower(s):\n",
    "    return s.lower()\n",
    "s = \"PW SKILLS\"\n",
    "print(str_lower(s))"
   ]
  },
  {
   "cell_type": "markdown",
   "metadata": {},
   "source": [
    "5. Count the number of vowels in a string"
   ]
  },
  {
   "cell_type": "code",
   "execution_count": 11,
   "metadata": {},
   "outputs": [
    {
     "name": "stdout",
     "output_type": "stream",
     "text": [
      "6\n"
     ]
    }
   ],
   "source": [
    "def count_vowels(s):\n",
    "    vowels = 'aeiouAEIOU'\n",
    "    vowel_count = 0\n",
    "    for char in s:\n",
    "        if char in vowels:\n",
    "            vowel_count += 1\n",
    "    return vowel_count\n",
    "s = 'intelligent student'\n",
    "print(count_vowels(s))"
   ]
  },
  {
   "cell_type": "markdown",
   "metadata": {},
   "source": [
    "6. Count the number of consonants in a string."
   ]
  },
  {
   "cell_type": "code",
   "execution_count": 15,
   "metadata": {},
   "outputs": [
    {
     "name": "stdout",
     "output_type": "stream",
     "text": [
      "final count is:  23\n"
     ]
    }
   ],
   "source": [
    "def count_consonants(s):\n",
    "    consonants = 'bcdfghjklmnpqrstvwxyzBCDFGHJKLMNPQRSTVWXYZ'\n",
    "    consonant_count = 0\n",
    "    for char in s:\n",
    "        if char in consonants:\n",
    "            consonant_count += 1\n",
    "    return consonant_count\n",
    "s = 'this is my first jupiter notebook on vs code'\n",
    "print('final count is: ',count_consonants(s))\n"
   ]
  },
  {
   "cell_type": "markdown",
   "metadata": {},
   "source": [
    "7. Remove all whitespaces from a string"
   ]
  },
  {
   "cell_type": "code",
   "execution_count": 21,
   "metadata": {},
   "outputs": [
    {
     "name": "stdout",
     "output_type": "stream",
     "text": [
      "after removing whitespaces,string is: thisissauravkumar\n"
     ]
    }
   ],
   "source": [
    "def removed_whitespaces(s):\n",
    "    return ''.join(s.split(' '))\n",
    "s = 'this is  saurav kumar'\n",
    "print('after removing whitespaces,string is:',removed_whitespaces(s))"
   ]
  },
  {
   "cell_type": "markdown",
   "metadata": {},
   "source": [
    "8. Find the length of a string without using the `len()` function"
   ]
  },
  {
   "cell_type": "code",
   "execution_count": 26,
   "metadata": {},
   "outputs": [
    {
     "name": "stdout",
     "output_type": "stream",
     "text": [
      "length of string:  8\n"
     ]
    }
   ],
   "source": [
    "def str_length(s):\n",
    "    count = 0\n",
    "    for char in s:\n",
    "            count += 1\n",
    "    return count\n",
    "s = 'pwskills'\n",
    "print(\"length of string: \",str_length(s))"
   ]
  },
  {
   "cell_type": "markdown",
   "metadata": {},
   "source": [
    "9. Check if a string contains a specific word"
   ]
  },
  {
   "cell_type": "code",
   "execution_count": 29,
   "metadata": {},
   "outputs": [
    {
     "name": "stdout",
     "output_type": "stream",
     "text": [
      "this string contains specific word:  True\n"
     ]
    }
   ],
   "source": [
    "def is_str_contains_swords():\n",
    "    s_word = 'self'\n",
    "    if s_word in s:\n",
    "        return True\n",
    "    else:\n",
    "        return False\n",
    "s ='this is self service'\n",
    "print(\"this string contains specific word: \",is_str_contains_swords())"
   ]
  },
  {
   "cell_type": "markdown",
   "metadata": {},
   "source": [
    "10. Replace a word in a string with another word."
   ]
  },
  {
   "cell_type": "code",
   "execution_count": 30,
   "metadata": {},
   "outputs": [
    {
     "name": "stdout",
     "output_type": "stream",
     "text": [
      "I am new python developer\n"
     ]
    }
   ],
   "source": [
    "def replace_words():\n",
    "    return s.replace(old_words, new_words)\n",
    "old_words = input(\"enter the words to remove:\")\n",
    "new_words = input(\"enter the words to replace with:\")\n",
    "s = 'I am experienced python developer'\n",
    "print(replace_words())"
   ]
  },
  {
   "cell_type": "markdown",
   "metadata": {},
   "source": [
    "11. Count the occurrences of a word in a string."
   ]
  },
  {
   "cell_type": "code",
   "execution_count": 36,
   "metadata": {},
   "outputs": [
    {
     "name": "stdout",
     "output_type": "stream",
     "text": [
      "{'this': 1, 'is': 1, 'saurav': 1, 'kumar': 1, 'gautam': 1}\n"
     ]
    }
   ],
   "source": [
    "def count_occurrences_word(s):\n",
    "    words = s.split()  \n",
    "    word_count = {}    \n",
    "    \n",
    "    for w in words:\n",
    "        if w in word_count:\n",
    "            word_count[w] += 1\n",
    "        else:\n",
    "            word_count[w] = 1\n",
    "    \n",
    "    return word_count\n",
    "s = 'this is saurav kumar gautam'\n",
    "print(count_occurrences_word(s))"
   ]
  },
  {
   "cell_type": "markdown",
   "metadata": {},
   "source": [
    "12. Find the first occurrence of a word in a string."
   ]
  },
  {
   "cell_type": "code",
   "execution_count": 37,
   "metadata": {},
   "outputs": [
    {
     "name": "stdout",
     "output_type": "stream",
     "text": [
      "first occurence of word is  this\n"
     ]
    }
   ],
   "source": [
    "def first_occurence_word():\n",
    "    l = s.split()\n",
    "    return l[0]\n",
    "s = 'this is my first python class'\n",
    "print('first occurence of word is ',first_occurence_word())"
   ]
  },
  {
   "cell_type": "markdown",
   "metadata": {},
   "source": [
    "13. Find the last occurrence of a word in a string"
   ]
  },
  {
   "cell_type": "code",
   "execution_count": 39,
   "metadata": {},
   "outputs": [
    {
     "name": "stdout",
     "output_type": "stream",
     "text": [
      "last occurence word is class\n"
     ]
    }
   ],
   "source": [
    "def last_occurence_word():\n",
    "    l = s.split()\n",
    "    return l[-1]\n",
    "s = 'this is my first python class'\n",
    "print('last occurence word is',last_occurence_word())"
   ]
  },
  {
   "cell_type": "markdown",
   "metadata": {},
   "source": [
    "14. Split a string into a list of words."
   ]
  },
  {
   "cell_type": "code",
   "execution_count": 41,
   "metadata": {},
   "outputs": [
    {
     "name": "stdout",
     "output_type": "stream",
     "text": [
      "['Nikita', 'is', 'an', 'intelligent', 'girl']\n"
     ]
    }
   ],
   "source": [
    "def str_to_list(s):\n",
    "    return s.split()\n",
    "s = \"Nikita is an intelligent girl\"\n",
    "print(str_to_list(s))"
   ]
  },
  {
   "cell_type": "markdown",
   "metadata": {},
   "source": [
    "15. Join a list of words into a string."
   ]
  },
  {
   "cell_type": "code",
   "execution_count": 43,
   "metadata": {},
   "outputs": [
    {
     "name": "stdout",
     "output_type": "stream",
     "text": [
      "Nikita is an intelligent girl\n"
     ]
    }
   ],
   "source": [
    "def lst_to_string():\n",
    "    return ' '.join(l)\n",
    "l = ['Nikita', 'is', 'an', 'intelligent', 'girl']\n",
    "print(lst_to_string())"
   ]
  },
  {
   "cell_type": "markdown",
   "metadata": {},
   "source": [
    "16. Convert a string where words are separated by spaces to one where words\n",
    "are separated by underscores."
   ]
  },
  {
   "cell_type": "code",
   "execution_count": 44,
   "metadata": {},
   "outputs": [
    {
     "name": "stdout",
     "output_type": "stream",
     "text": [
      "this_is_my_first_python_class\n"
     ]
    }
   ],
   "source": [
    "def word_sep_underscore():\n",
    "    return s.replace(' ', '_')\n",
    "s = 'this is my first python class'\n",
    "print(word_sep_underscore())"
   ]
  },
  {
   "cell_type": "markdown",
   "metadata": {},
   "source": [
    "17. Check if a string starts with a specific word or phrase."
   ]
  },
  {
   "cell_type": "code",
   "execution_count": 3,
   "metadata": {},
   "outputs": [
    {
     "name": "stdout",
     "output_type": "stream",
     "text": [
      "False\n"
     ]
    }
   ],
   "source": [
    "def is_str_start_with_s_word():\n",
    "    return s.startswith((w))\n",
    "w = input(\"enter word: \")\n",
    "s = \"intelligent\"\n",
    "print(is_str_start_with_s_word())       "
   ]
  },
  {
   "cell_type": "markdown",
   "metadata": {},
   "source": [
    "18. Check if a string ends with a specific word or phrase"
   ]
  },
  {
   "cell_type": "code",
   "execution_count": 56,
   "metadata": {},
   "outputs": [
    {
     "name": "stdout",
     "output_type": "stream",
     "text": [
      "True\n"
     ]
    }
   ],
   "source": [
    "def is_end_with_s_wword():\n",
    "    return s.endswith(w)\n",
    "w = input(\"enter word\")\n",
    "s = 'nikita has good knowledge about coding'\n",
    "print(is_end_with_s_wword())"
   ]
  },
  {
   "cell_type": "markdown",
   "metadata": {},
   "source": [
    "19. Convert a string to title case (e.g., \"hello world\" to \"Hello World)"
   ]
  },
  {
   "cell_type": "code",
   "execution_count": 57,
   "metadata": {},
   "outputs": [
    {
     "name": "stdout",
     "output_type": "stream",
     "text": [
      "a string to title case is:  Hello World\n"
     ]
    }
   ],
   "source": [
    "def titled_str():\n",
    "    return s.title()\n",
    "s = \"hello world\"\n",
    "print('a string to title case is: ',titled_str())"
   ]
  },
  {
   "cell_type": "markdown",
   "metadata": {},
   "source": [
    "20. Find the longest word in a string"
   ]
  },
  {
   "cell_type": "code",
   "execution_count": 66,
   "metadata": {},
   "outputs": [
    {
     "name": "stdout",
     "output_type": "stream",
     "text": [
      "intelligent\n"
     ]
    }
   ],
   "source": [
    "def longest_str_word():\n",
    "    longest_word = \"\"\n",
    "    for char in (s.split(' ')):\n",
    "        if len(char) > len(longest_word):\n",
    "            longest_word = char\n",
    "    return longest_word\n",
    "s = 'I am not intelligent student'\n",
    "print(longest_str_word())"
   ]
  },
  {
   "cell_type": "markdown",
   "metadata": {},
   "source": [
    "21. Find the shortest word in a string"
   ]
  },
  {
   "cell_type": "code",
   "execution_count": 76,
   "metadata": {},
   "outputs": [
    {
     "name": "stdout",
     "output_type": "stream",
     "text": [
      "shortest word in string is:  i\n"
     ]
    }
   ],
   "source": [
    "def shortest_str_word():\n",
    "    shortest_word = l[0]\n",
    "    for char in s.split(' '):\n",
    "        if len(char) < len(shortest_word):\n",
    "            shortest_word = char\n",
    "    return shortest_word\n",
    "s = 'this is not what i wanted to be'\n",
    "print('shortest word in string is: ',shortest_str_word())"
   ]
  },
  {
   "cell_type": "markdown",
   "metadata": {},
   "source": [
    "22. Reverse the order of words in a string."
   ]
  },
  {
   "cell_type": "code",
   "execution_count": 78,
   "metadata": {},
   "outputs": [
    {
     "name": "stdout",
     "output_type": "stream",
     "text": [
      "python of class first my is this\n"
     ]
    }
   ],
   "source": [
    "def reverse_str_word_order():\n",
    "    words = s.split()\n",
    "    reversed_words =words[::-1]\n",
    "    reversed_str =' '.join(reversed_words)\n",
    "    return reversed_str\n",
    "\n",
    "s ='this is my first class of python'\n",
    "print(reverse_str_word_order())"
   ]
  },
  {
   "cell_type": "markdown",
   "metadata": {},
   "source": [
    "23. Check if a string is alphanumeric."
   ]
  },
  {
   "cell_type": "code",
   "execution_count": 84,
   "metadata": {},
   "outputs": [
    {
     "name": "stdout",
     "output_type": "stream",
     "text": [
      "True\n"
     ]
    }
   ],
   "source": [
    "def is_str_alphanum():\n",
    "    return s.isalnum()\n",
    "s = 'sau8986rav'\n",
    "print(is_str_alphanum())"
   ]
  },
  {
   "cell_type": "markdown",
   "metadata": {},
   "source": [
    "24. Extract all digits from a string."
   ]
  },
  {
   "cell_type": "code",
   "execution_count": 86,
   "metadata": {},
   "outputs": [
    {
     "name": "stdout",
     "output_type": "stream",
     "text": [
      "['8', '9', '8', '6']\n"
     ]
    }
   ],
   "source": [
    "def extract_digit_from_str():\n",
    "    digits = []\n",
    "    for i in s:\n",
    "        if i.isdigit():\n",
    "            digits.append(i)\n",
    "    return digits\n",
    "s = 'sau8986rav'\n",
    "print(extract_digit_from_str())\n"
   ]
  },
  {
   "cell_type": "markdown",
   "metadata": {},
   "source": [
    "25. Extract all alphabets from a string."
   ]
  },
  {
   "cell_type": "code",
   "execution_count": 100,
   "metadata": {},
   "outputs": [
    {
     "name": "stdout",
     "output_type": "stream",
     "text": [
      "['S', 'a', 'u', 'r', 'a', 'v']\n"
     ]
    }
   ],
   "source": [
    "def extract_alpha_from_str():\n",
    "    alpha =[]\n",
    "    for char in s:\n",
    "        if char.isalpha():\n",
    "            alpha.append(char)\n",
    "    return alpha\n",
    "s = \"Sau8986rav\"\n",
    "print(extract_alpha_from_str())"
   ]
  },
  {
   "cell_type": "markdown",
   "metadata": {},
   "source": [
    "26. Count the number of uppercase letters in a string"
   ]
  },
  {
   "cell_type": "code",
   "execution_count": 89,
   "metadata": {},
   "outputs": [
    {
     "name": "stdout",
     "output_type": "stream",
     "text": [
      "4\n"
     ]
    }
   ],
   "source": [
    "def count_str_uppercase_letter():\n",
    "    uppercase_letter_count = 0\n",
    "    for char in s:\n",
    "        if char.isupper():\n",
    "            uppercase_letter_count += 1\n",
    "    return uppercase_letter_count\n",
    "s = 'This is my First Python Class'\n",
    "print(count_str_uppercase_letter())"
   ]
  },
  {
   "cell_type": "markdown",
   "metadata": {},
   "source": [
    "27. Count the number of lowercase letters in a string"
   ]
  },
  {
   "cell_type": "code",
   "execution_count": 90,
   "metadata": {},
   "outputs": [
    {
     "name": "stdout",
     "output_type": "stream",
     "text": [
      "12\n"
     ]
    }
   ],
   "source": [
    "def count_str_lowercase_letter():\n",
    "    lowercase_letter_count = 0\n",
    "    for char in s:\n",
    "        if char.islower():\n",
    "            lowercase_letter_count += 1\n",
    "    return lowercase_letter_count\n",
    "s = 'this is saurav'\n",
    "print(count_str_lowercase_letter())"
   ]
  },
  {
   "cell_type": "markdown",
   "metadata": {},
   "source": [
    "28. Swap the case of each character in a string."
   ]
  },
  {
   "cell_type": "code",
   "execution_count": 94,
   "metadata": {},
   "outputs": [
    {
     "name": "stdout",
     "output_type": "stream",
     "text": [
      "tHIS IS sAURAV kUMAR gAUTAM\n"
     ]
    }
   ],
   "source": [
    "def swap_str_char():\n",
    "    return s.swapcase()\n",
    "s = 'This is Saurav Kumar Gautam'\n",
    "print(swap_str_char())"
   ]
  },
  {
   "cell_type": "code",
   "execution_count": 98,
   "metadata": {},
   "outputs": [
    {
     "name": "stdout",
     "output_type": "stream",
     "text": [
      "tHIS IS sAURAV kUMAR gAUTAM\n"
     ]
    }
   ],
   "source": [
    "# def swap_str_char(s):\n",
    "#     swapped_chars = []\n",
    "#     for char in s:\n",
    "#         if char.isupper():\n",
    "#             swapped_chars.append(char.lower())\n",
    "#         else:\n",
    "#             swapped_chars.append(char.upper())\n",
    "#     return ''.join(swapped_chars)\n",
    "# s = 'This is Saurav Kumar Gautam'\n",
    "# print(swap_str_char(s))"
   ]
  },
  {
   "cell_type": "markdown",
   "metadata": {},
   "source": [
    "29. Remove a specific word from a string."
   ]
  },
  {
   "cell_type": "code",
   "execution_count": 148,
   "metadata": {},
   "outputs": [
    {
     "name": "stdout",
     "output_type": "stream",
     "text": [
      "this is me you\n"
     ]
    }
   ],
   "source": [
    "def remove_specific_word(input_Str):\n",
    "    words = input_Str.split(' ')\n",
    "    removed_words = []\n",
    "    for char in words:\n",
    "        if not char.startswith('n'):\n",
    "            removed_words.append(char)\n",
    "    return ' '.join(removed_words)\n",
    "input_Str = 'this is neither me nor you'\n",
    "print(remove_specific_word(input_Str))"
   ]
  },
  {
   "cell_type": "markdown",
   "metadata": {},
   "source": [
    "30. Check if a string is a valid email address."
   ]
  },
  {
   "cell_type": "code",
   "execution_count": 129,
   "metadata": {},
   "outputs": [
    {
     "name": "stdout",
     "output_type": "stream",
     "text": [
      "sauravgautam2419@gmail.com: True\n",
      "invalid-email: False\n",
      "john.doe@mic.in: False\n"
     ]
    }
   ],
   "source": [
    "def is_valid_email(email):\n",
    "    parts = email.split('@')\n",
    "    if len(parts) != 2:\n",
    "        return False  \n",
    "    local_part, domain_part = parts\n",
    "\n",
    "    if len(email) < 6 or len(email) > 254:\n",
    "        return False \n",
    "    if not ((local_part[0].isalpha() and local_part.isalnum())\n",
    "             or '-' in local_part or '_'in local_part):\n",
    "        return False\n",
    "    \n",
    "    if domain_part.count('.') != 1:\n",
    "        return False\n",
    "    domain, tld = domain_part.split('.')\n",
    "    if not (domain.isalnum() and tld.isalnum()):\n",
    "        return False\n",
    "    if not (2 <= len(tld) <= 6):\n",
    "        return False\n",
    "    return True\n",
    "email1 = 'sauravgautam2419@gmail.com'\n",
    "email2 = 'invalid-email'\n",
    "email3 = 'john.doe@mic.in'\n",
    "\n",
    "print(f\"{email1}: {is_valid_email(email1)}\") \n",
    "print(f\"{email2}: {is_valid_email(email2)}\") \n",
    "print(f\"{email3}: {is_valid_email(email3)}\")  "
   ]
  },
  {
   "cell_type": "markdown",
   "metadata": {},
   "source": [
    "31. Extract the username from an email address string."
   ]
  },
  {
   "cell_type": "code",
   "execution_count": 133,
   "metadata": {},
   "outputs": [
    {
     "name": "stdout",
     "output_type": "stream",
     "text": [
      "sauravgau\n"
     ]
    }
   ],
   "source": [
    "def extract_username_from_email():\n",
    "    words= s.split('@')\n",
    "    user_name = words[0][0:9]\n",
    "    return user_name\n",
    "s = \"sauravgautam2419@gmail.com\"\n",
    "print(extract_username_from_email())"
   ]
  },
  {
   "cell_type": "markdown",
   "metadata": {},
   "source": [
    "32. Extract the domain name from an email address string."
   ]
  },
  {
   "cell_type": "code",
   "execution_count": 134,
   "metadata": {},
   "outputs": [
    {
     "name": "stdout",
     "output_type": "stream",
     "text": [
      "gmail.com\n"
     ]
    }
   ],
   "source": [
    "def extract_domain_name_from_email():\n",
    "    words = s.split('@')\n",
    "    domain_name = words[-1]\n",
    "    return domain_name\n",
    "s = 'sauravgautam@gmail.com'\n",
    "print(extract_domain_name_from_email())"
   ]
  },
  {
   "cell_type": "code",
   "execution_count": 138,
   "metadata": {},
   "outputs": [
    {
     "name": "stdout",
     "output_type": "stream",
     "text": [
      "sauravgautam\n"
     ]
    }
   ],
   "source": [
    "def extract_email_username(input_str):\n",
    "   word = []\n",
    "   for char in input_str:\n",
    "\n",
    "    if char.isdigit():\n",
    "        break\n",
    "    word.append(char)\n",
    "   return '' .join(word)\n",
    "input_str ='sauravgautam2419@gmail.com'\n",
    "print(extract_email_username(input_str))"
   ]
  },
  {
   "cell_type": "markdown",
   "metadata": {},
   "source": [
    "33. Replace multiple spaces in a string with a single space."
   ]
  },
  {
   "cell_type": "code",
   "execution_count": 144,
   "metadata": {},
   "outputs": [
    {
     "name": "stdout",
     "output_type": "stream",
     "text": [
      "my name is saurav kumar\n"
     ]
    }
   ],
   "source": [
    "def replace_multiple_spaces_with_single_spaces():\n",
    "    words = []\n",
    "    for char in s.split():\n",
    "        if char.isspace():\n",
    "            continue\n",
    "        words.append(char)\n",
    "    return ' '.join(words)\n",
    "s = 'my    name    is   saurav   kumar'\n",
    "print(replace_multiple_spaces_with_single_spaces())"
   ]
  },
  {
   "cell_type": "markdown",
   "metadata": {},
   "source": [
    "34. Check if a string is a valid URL."
   ]
  },
  {
   "cell_type": "code",
   "execution_count": 190,
   "metadata": {},
   "outputs": [
    {
     "name": "stdout",
     "output_type": "stream",
     "text": [
      "True\n"
     ]
    }
   ],
   "source": [
    "def is_valid_url(url):\n",
    "  \n",
    "    valid_schemes = ['http://', 'https://', 'ftp://']\n",
    "    valid_scheme = False\n",
    "\n",
    "    for scheme in valid_schemes:\n",
    "        if url.startswith(scheme):\n",
    "            valid_scheme = True\n",
    "            break\n",
    "        else:\n",
    "            valid_scheme = False\n",
    "    has_dot = False\n",
    "    for char in url:\n",
    "        if char == '.':\n",
    "            has_dot= True\n",
    "            break\n",
    "    if not has_dot:\n",
    "        return False\n",
    "        \n",
    "\n",
    "    return True\n",
    "     \n",
    "url = 'https://google.com/'\n",
    "print(is_valid_url(url))\n"
   ]
  },
  {
   "cell_type": "markdown",
   "metadata": {},
   "source": [
    "35. Extract the protocol (http or https) from a URL string"
   ]
  },
  {
   "cell_type": "code",
   "execution_count": 196,
   "metadata": {},
   "outputs": [
    {
     "name": "stdout",
     "output_type": "stream",
     "text": [
      "['https']\n"
     ]
    }
   ],
   "source": [
    "def extract_str_protocol(url):\n",
    "    protocol = []\n",
    "    for char in url.split(':'):\n",
    "        if char == 'http' or char == 'https' or char == 'ftp':\n",
    "            protocol.append(char)\n",
    "            break\n",
    "    return protocol\n",
    "url = 'https://google.com'\n",
    "print(extract_str_protocol(url))"
   ]
  },
  {
   "cell_type": "markdown",
   "metadata": {},
   "source": [
    "36. Find the frequency of each character in a string."
   ]
  },
  {
   "cell_type": "code",
   "execution_count": 198,
   "metadata": {},
   "outputs": [
    {
     "name": "stdout",
     "output_type": "stream",
     "text": [
      "{'i': 2, 'n': 2, 't': 2, 'e': 2, 'l': 2, 'g': 1}\n"
     ]
    }
   ],
   "source": [
    "def freq_str_char():\n",
    "    freq ={}\n",
    "    for char in s:\n",
    "        if char in freq:\n",
    "            freq[char] += 1\n",
    "        else:\n",
    "            freq[char] = 1\n",
    "    return freq\n",
    "s = 'intelligent'\n",
    "print(freq_str_char())"
   ]
  },
  {
   "cell_type": "markdown",
   "metadata": {},
   "source": [
    "37. Remove all punctuation from a string"
   ]
  },
  {
   "cell_type": "code",
   "execution_count": 200,
   "metadata": {},
   "outputs": [
    {
     "name": "stdout",
     "output_type": "stream",
     "text": [
      "Hello World this is new india\n"
     ]
    }
   ],
   "source": [
    "import string\n",
    "def remove_str_punctuation():\n",
    "    punctuation_char = string.punctuation\n",
    "    new_str = ''\n",
    "    for char in s:\n",
    "        if char not in punctuation_char:\n",
    "            new_str += char\n",
    "    return new_str\n",
    "s = 'Hello, World!, this is new india.'\n",
    "print(remove_str_punctuation())"
   ]
  },
  {
   "cell_type": "markdown",
   "metadata": {},
   "source": [
    "38. Check if a string contains only digits."
   ]
  },
  {
   "cell_type": "code",
   "execution_count": 203,
   "metadata": {},
   "outputs": [
    {
     "name": "stdout",
     "output_type": "stream",
     "text": [
      "True\n"
     ]
    }
   ],
   "source": [
    "def does_contain_digit():\n",
    "    return s.isdigit()\n",
    "s = '123456'\n",
    "print(does_contain_digit())\n",
    "            "
   ]
  },
  {
   "cell_type": "markdown",
   "metadata": {},
   "source": [
    "39. Check if a string contains only alphabets."
   ]
  },
  {
   "cell_type": "code",
   "execution_count": 205,
   "metadata": {},
   "outputs": [
    {
     "name": "stdout",
     "output_type": "stream",
     "text": [
      "True\n"
     ]
    }
   ],
   "source": [
    "def does_contain_alpha_only():\n",
    "    return s.isalpha()\n",
    "s = 'saurav'\n",
    "print(does_contain_alpha_only())"
   ]
  },
  {
   "cell_type": "markdown",
   "metadata": {},
   "source": [
    "40. Convert a string to a list of characters."
   ]
  },
  {
   "cell_type": "code",
   "execution_count": 208,
   "metadata": {},
   "outputs": [
    {
     "name": "stdout",
     "output_type": "stream",
     "text": [
      "['i', 'n', 't', 'e', 'l', 'l', 'i', 'g', 'e', 'n', 't']\n"
     ]
    }
   ],
   "source": [
    "def convert_str_to_lst():\n",
    "    return list(s)\n",
    "s ='intelligent'\n",
    "print(convert_str_to_lst())"
   ]
  },
  {
   "cell_type": "markdown",
   "metadata": {},
   "source": [
    "41. Check if two strings are anagrams"
   ]
  },
  {
   "cell_type": "code",
   "execution_count": 214,
   "metadata": {},
   "outputs": [
    {
     "name": "stdout",
     "output_type": "stream",
     "text": [
      "True\n",
      "False\n"
     ]
    }
   ],
   "source": [
    "def is_string_anagram(s1, s2):\n",
    "    s1 = s1.replace(\" \", \"\").lower()\n",
    "    s2 = s2.replace(\" \", \"\").lower()\n",
    "\n",
    "    if len(s1) != len(s2):\n",
    "        return False\n",
    "    \n",
    "    return sorted(s1) == sorted(s2)\n",
    "\n",
    "s1 = 'listen'\n",
    "s2 = 'silent'\n",
    "print(is_string_anagram(s1, s2)) \n",
    "\n",
    "s3 = 'hello'\n",
    "s4 = 'world'\n",
    "print(is_string_anagram(s3, s4)) \n"
   ]
  },
  {
   "cell_type": "markdown",
   "metadata": {},
   "source": [
    "42. Encode a string using a Caesar cipher."
   ]
  },
  {
   "cell_type": "code",
   "execution_count": 225,
   "metadata": {},
   "outputs": [
    {
     "name": "stdout",
     "output_type": "stream",
     "text": [
      "encrypted sting is: vdxudy\n"
     ]
    }
   ],
   "source": [
    "alphabet ='abcdefghijklmnopqrstuvwxyz'\n",
    "alpha_lst = list(alphabet)\n",
    "p ='saurav'\n",
    "shift_key = eval(input(\"enter key: \"))\n",
    "def encode_str(p,shift_key):\n",
    "    cipher_text =\"\"\n",
    "    for char in p:\n",
    "         index = alpha_lst.index(char)\n",
    "         new_index = index + shift_key\n",
    "         cipher_text += alpha_lst[new_index]\n",
    "    return cipher_text\n",
    "print('encrypted sting is:',encode_str(p,shift_key))\n"
   ]
  },
  {
   "cell_type": "markdown",
   "metadata": {},
   "source": [
    "43. Decode a Caesar cipher encoded string."
   ]
  },
  {
   "cell_type": "code",
   "execution_count": 227,
   "metadata": {},
   "outputs": [
    {
     "name": "stdout",
     "output_type": "stream",
     "text": [
      "decrypted sting is: saurav\n"
     ]
    }
   ],
   "source": [
    "alphabet ='abcdefghijklmnopqrstuvwxyz'\n",
    "alpha_lst = list(alphabet)\n",
    "c = 'vdxudy'\n",
    "shift_key = eval(input(\"enter key: \"))\n",
    "def decode_encode_str(c,shift_key):\n",
    "    plain_text =\"\"\n",
    "    for char in c:\n",
    "         index = alpha_lst.index(char)\n",
    "         new_index = index - shift_key\n",
    "         plain_text += alpha_lst[new_index]\n",
    "    return plain_text\n",
    "print('decrypted sting is:',decode_encode_str(c,shift_key))"
   ]
  },
  {
   "cell_type": "markdown",
   "metadata": {},
   "source": [
    "44. Find the most frequent word in a string."
   ]
  },
  {
   "cell_type": "code",
   "execution_count": 220,
   "metadata": {},
   "outputs": [
    {
     "name": "stdout",
     "output_type": "stream",
     "text": [
      "('kumar', 2)\n"
     ]
    }
   ],
   "source": [
    "def most_freq_str_word():\n",
    "    words = s.split(' ')\n",
    "    freq = {}\n",
    "    for word in words:\n",
    "        if word in freq:\n",
    "            freq[word]+= 1\n",
    "        else:\n",
    "            freq[word] = 1\n",
    "    max_word = ''\n",
    "    max_count = 0\n",
    "    for word, count in freq.items():\n",
    "        if count > max_count:\n",
    "            max_word = word\n",
    "            max_count = count\n",
    "    \n",
    "    return max_word, max_count\n",
    "s = 'my name is saurav kumar and saurabh kumar'\n",
    "print(most_freq_str_word())"
   ]
  },
  {
   "cell_type": "markdown",
   "metadata": {},
   "source": [
    "45. Find all unique words in a string."
   ]
  },
  {
   "cell_type": "code",
   "execution_count": 223,
   "metadata": {},
   "outputs": [
    {
     "name": "stdout",
     "output_type": "stream",
     "text": [
      "{'this', 'a', 'problem', 'are', 'you', 'not', 'is'}\n"
     ]
    }
   ],
   "source": [
    "def unique_str_word():\n",
    "    words = s.split()\n",
    "    unique_words = set(words)\n",
    "    return unique_words\n",
    "s = 'this is not a problem you are a problem'\n",
    "print(unique_str_word())"
   ]
  },
  {
   "cell_type": "markdown",
   "metadata": {},
   "source": [
    "46. Count the number of syllables in a string."
   ]
  },
  {
   "cell_type": "markdown",
   "metadata": {},
   "source": [
    "47. Check if a string contains any special characters."
   ]
  },
  {
   "cell_type": "code",
   "execution_count": 252,
   "metadata": {},
   "outputs": [
    {
     "name": "stdout",
     "output_type": "stream",
     "text": [
      "False\n"
     ]
    }
   ],
   "source": [
    "s = \"Sau8@986rav\"\n",
    "def does_contain_special_char(s):\n",
    "    for char in s:\n",
    "        if not char.isalnum():\n",
    "           return True\n",
    "        else:\n",
    "            if char == '.':\n",
    "                return False\n",
    "    return False\n",
    "print(does_contain_special_char(s))"
   ]
  },
  {
   "cell_type": "markdown",
   "metadata": {},
   "source": [
    "48. Remove the nth word from a string."
   ]
  },
  {
   "cell_type": "code",
   "execution_count": 259,
   "metadata": {},
   "outputs": [
    {
     "name": "stdout",
     "output_type": "stream",
     "text": [
      "('sarav', 'u')\n"
     ]
    }
   ],
   "source": [
    "def remove_str_nth_word(s,n):\n",
    "    lst = list(s)\n",
    "    if n>= 1 and n<= len(lst):\n",
    "        removed_words = lst.pop(n-1)\n",
    "        modified_str = ''.join(lst)\n",
    "        return modified_str,removed_words\n",
    "    else:\n",
    "        return None\n",
    "s = 'saurav'\n",
    "n = eval(input('enter n_value'))\n",
    "print(remove_str_nth_word(s,n))\n"
   ]
  },
  {
   "cell_type": "markdown",
   "metadata": {},
   "source": [
    "49. Insert a word at the nth position in a string.\n"
   ]
  },
  {
   "cell_type": "code",
   "execution_count": 266,
   "metadata": {},
   "outputs": [
    {
     "name": "stdout",
     "output_type": "stream",
     "text": [
      "sau@8986rav\n"
     ]
    }
   ],
   "source": [
    "def insert_word_in_str_at_nth_index(s, v, n):\n",
    "    lst = list(s)\n",
    "    if n >= 1 and n <= len(lst):\n",
    "        lst.insert(n-1, v) \n",
    "        modified_str = ''.join(lst)\n",
    "        return modified_str\n",
    "    else:\n",
    "        return \"Invalid index n\"\n",
    "s = 'saurav'\n",
    "v = input('enter the value to insert:')\n",
    "n = eval(input('enter the index to insert at:'))\n",
    "print(insert_word_in_str_at_nth_index(s, v, n))"
   ]
  },
  {
   "cell_type": "markdown",
   "metadata": {},
   "source": [
    "50. Convert a CSV string to a list of lists."
   ]
  },
  {
   "cell_type": "code",
   "execution_count": 270,
   "metadata": {},
   "outputs": [
    {
     "name": "stdout",
     "output_type": "stream",
     "text": [
      "Name, Age, Country\n",
      "John, 25, USA\n",
      "Alice, 30, Canada\n",
      "Bob, 22, UK\n"
     ]
    }
   ],
   "source": [
    "csv_data = \"Name, Age, Country\\nJohn, 25, USA\\nAlice, 30, Canada\\nBob, 22, UK\"\n",
    "s = csv_data.split(\"\\n\")\n",
    "for line in s:\n",
    "    print(line)\n",
    "    \n",
    "    "
   ]
  },
  {
   "cell_type": "code",
   "execution_count": 272,
   "metadata": {},
   "outputs": [
    {
     "name": "stdout",
     "output_type": "stream",
     "text": [
      "[['Name', ' Age', ' Country'], ['John', ' 25', ' USA'], ['Alice', ' 30', ' Canada'], ['Bob', ' 22', ' UK']]\n"
     ]
    }
   ],
   "source": [
    "csv_data = \"Name, Age, Country\\nJohn, 25, USA\\nAlice, 30, Canada\\nBob, 22, UK\"\n",
    "result =[]\n",
    "def csv_str_to_lst():\n",
    "    lines = csv_data.split(\"\\n\")\n",
    "    for line in lines:\n",
    "        fields = line.split(',')\n",
    "        result.append(fields)\n",
    "    return result\n",
    "print(csv_str_to_lst())"
   ]
  },
  {
   "cell_type": "markdown",
   "metadata": {},
   "source": [
    "List Based Practice Problem :"
   ]
  },
  {
   "cell_type": "markdown",
   "metadata": {},
   "source": [
    "1. Create a list with integers from 1 to 10."
   ]
  },
  {
   "cell_type": "code",
   "execution_count": 274,
   "metadata": {},
   "outputs": [
    {
     "name": "stdout",
     "output_type": "stream",
     "text": [
      "[1, 2, 3, 4, 5, 6, 7, 8, 9, 10]\n"
     ]
    }
   ],
   "source": [
    "l = list(range(1,11))\n",
    "print(l)"
   ]
  },
  {
   "cell_type": "markdown",
   "metadata": {},
   "source": [
    "2. Find the length of a list without using the `len()` function."
   ]
  },
  {
   "cell_type": "code",
   "execution_count": 277,
   "metadata": {},
   "outputs": [
    {
     "name": "stdout",
     "output_type": "stream",
     "text": [
      "length of list without using len() function: 4\n"
     ]
    }
   ],
   "source": [
    "def length_of_lst(lst):\n",
    "    length_count = 0\n",
    "    for element in lst:\n",
    "        length_count+=1\n",
    "    return length_count\n",
    "lst = [1,2,\"saurav\",3.45]\n",
    "print('length of list without using len() function:',length_of_lst(lst))\n"
   ]
  },
  {
   "cell_type": "markdown",
   "metadata": {},
   "source": [
    "3. Append an element to the end of a list."
   ]
  },
  {
   "cell_type": "code",
   "execution_count": 281,
   "metadata": {},
   "outputs": [
    {
     "name": "stdout",
     "output_type": "stream",
     "text": [
      "[1, 2, 'saurav', 3.45, (3+6j)]\n"
     ]
    }
   ],
   "source": [
    "def append_elem_to_list(lst,n):\n",
    "    lst.append(n)\n",
    "    return lst\n",
    "lst = [1,2,\"saurav\",3.45]\n",
    "n = eval(input('enter the value:'))\n",
    "print(append_elem_to_list(lst,n))"
   ]
  },
  {
   "cell_type": "markdown",
   "metadata": {},
   "source": [
    "4. Insert an element at a specific index in a list"
   ]
  },
  {
   "cell_type": "code",
   "execution_count": 284,
   "metadata": {},
   "outputs": [
    {
     "name": "stdout",
     "output_type": "stream",
     "text": [
      "[1, 2, 'saurav', (1, 2, 3, 4), 3.45, (3+6j)]\n"
     ]
    }
   ],
   "source": [
    "def inset_elem_in_list(lst,n,v):\n",
    "    lst.insert(n,v)\n",
    "    return lst\n",
    "lst = [1, 2, 'saurav', 3.45, (3+6j)]\n",
    "n = eval(input('enter the index number to insert:'))\n",
    "v = (eval(input('enter the value to insert:')))\n",
    "print(inset_elem_in_list(lst,n,v))"
   ]
  },
  {
   "cell_type": "markdown",
   "metadata": {},
   "source": [
    "5. Remove an element from a list by its value"
   ]
  },
  {
   "cell_type": "code",
   "execution_count": 293,
   "metadata": {},
   "outputs": [
    {
     "name": "stdout",
     "output_type": "stream",
     "text": [
      "remove element from list by its value is: [1, 2, 'saurav', 3.45, (3+6j)] (1, 2, 3, 4)\n"
     ]
    }
   ],
   "source": [
    "def remove_lst_element_by_itsvalue(lst,v):\n",
    "    lst.remove(v)\n",
    "    return lst\n",
    "lst =[1, 2, 'saurav', (1, 2, 3, 4), 3.45, (3+6j)]\n",
    "v = eval(input('enter the value to remove:'))\n",
    "print('remove element from list by its value is:', remove_lst_element_by_itsvalue(lst,v),v)"
   ]
  },
  {
   "cell_type": "markdown",
   "metadata": {},
   "source": [
    "6. Remove an element from a list by its index."
   ]
  },
  {
   "cell_type": "code",
   "execution_count": 295,
   "metadata": {},
   "outputs": [
    {
     "name": "stdout",
     "output_type": "stream",
     "text": [
      "(1, 2, 3, 4) [1, 2, 'saurav', 3.45, (3+6j)]\n"
     ]
    }
   ],
   "source": [
    "def remove_lst_element_by_its_index(lst,n):\n",
    "    return lst.pop(n)\n",
    "lst =[1, 2, 'saurav', (1, 2, 3, 4), 3.45, (3+6j)]\n",
    "n = eval(input('enter the index of element to remove:'))\n",
    "print(remove_lst_element_by_its_index(lst,n),lst)"
   ]
  },
  {
   "cell_type": "markdown",
   "metadata": {},
   "source": [
    "7. Check if an element exists in a list"
   ]
  },
  {
   "cell_type": "code",
   "execution_count": 299,
   "metadata": {},
   "outputs": [
    {
     "name": "stdout",
     "output_type": "stream",
     "text": [
      "True\n"
     ]
    }
   ],
   "source": [
    "def does_element_exist_in_lst(lst,n):\n",
    "    for i in lst:\n",
    "        if n in lst:\n",
    "            message ='True'\n",
    "        else:\n",
    "            message ='False'\n",
    "    return message\n",
    "lst =[1, 2, 'saurav', 3.45, (3+6j)]\n",
    "n = eval(input('enter the element:'))\n",
    "print(does_element_exist_in_lst(lst,n))"
   ]
  },
  {
   "cell_type": "markdown",
   "metadata": {},
   "source": [
    "8. Find the index of the first occurrence of an element in a list."
   ]
  },
  {
   "cell_type": "code",
   "execution_count": 302,
   "metadata": {},
   "outputs": [
    {
     "name": "stdout",
     "output_type": "stream",
     "text": [
      "index of first occurence of element is  1\n"
     ]
    }
   ],
   "source": [
    "def index_of_first_occurrence_element_in_lst(lst,n):\n",
    "    return lst.index(n)\n",
    "    \n",
    "lst =[1, 2, 'saurav', 3.45, (3+6j),2]\n",
    "n = eval(input('enter the element to find the first occurence of element:'))\n",
    "print('index of first occurence of element is ',index_of_first_occurrence_element_in_lst(lst,n))"
   ]
  },
  {
   "cell_type": "markdown",
   "metadata": {},
   "source": [
    "9. Count the occurrences of an element in a list."
   ]
  },
  {
   "cell_type": "code",
   "execution_count": 306,
   "metadata": {},
   "outputs": [
    {
     "name": "stdout",
     "output_type": "stream",
     "text": [
      "2\n"
     ]
    }
   ],
   "source": [
    "def count_occurrences_element_in_lst(lst,n):\n",
    "    count_occurrences_element = 0\n",
    "    for i in lst:\n",
    "        if i == n:\n",
    "             count_occurrences_element += 1\n",
    "    return count_occurrences_element \n",
    "lst =[1, 2, 'saurav', 3.45, (3+6j),2]\n",
    "n = eval(input('enter the element to count the occurences in list:'))\n",
    "print(count_occurrences_element_in_lst(lst,n))\n"
   ]
  },
  {
   "cell_type": "markdown",
   "metadata": {},
   "source": [
    "10. Reverse the order of elements in a list."
   ]
  },
  {
   "cell_type": "code",
   "execution_count": 308,
   "metadata": {},
   "outputs": [
    {
     "name": "stdout",
     "output_type": "stream",
     "text": [
      "reverse order of element in a list is [12, 11, 10, 9, 8, 7, 6, 5, 4, 3, 2, 1]\n"
     ]
    }
   ],
   "source": [
    "# def reverse_lst_element_order():\n",
    "#     lst.sort(reverse = True)\n",
    "#     return lst\n",
    "# lst =[1,2,3,4,5,6,7,8,9,10,11,12]\n",
    "# print('reverse order of element in a list is',reverse_lst_element_order())"
   ]
  },
  {
   "cell_type": "code",
   "execution_count": 309,
   "metadata": {},
   "outputs": [
    {
     "name": "stdout",
     "output_type": "stream",
     "text": [
      "reverse order of element in a list is [2, (3+6j), 3.45, 'saurav', 2, 1]\n"
     ]
    }
   ],
   "source": [
    "def reverse_lst_element_order():\n",
    "    lst.reverse()\n",
    "    return lst\n",
    "lst =[1, 2, 'saurav', 3.45, (3+6j),2]\n",
    "print('reverse order of element in a list is',reverse_lst_element_order())"
   ]
  },
  {
   "cell_type": "markdown",
   "metadata": {},
   "source": [
    "11. Sort a list in ascending order."
   ]
  },
  {
   "cell_type": "code",
   "execution_count": 310,
   "metadata": {},
   "outputs": [
    {
     "name": "stdout",
     "output_type": "stream",
     "text": [
      "list in ascending order is [5, 10, 15, 20, 30]\n"
     ]
    }
   ],
   "source": [
    "lst = [20,10,5,15,30]\n",
    "def sort_list_in_ascending_order(lst):\n",
    "    lst.sort()\n",
    "    return lst\n",
    "print('list in ascending order is',sort_list_in_ascending_order(lst))"
   ]
  },
  {
   "cell_type": "markdown",
   "metadata": {},
   "source": [
    "12. Sort a list in descending order"
   ]
  },
  {
   "cell_type": "code",
   "execution_count": 311,
   "metadata": {},
   "outputs": [
    {
     "name": "stdout",
     "output_type": "stream",
     "text": [
      "list in descending order is [30, 20, 15, 10, 5]\n"
     ]
    }
   ],
   "source": [
    "lst = [20,10,5,15,30]\n",
    "def sort_list_in_descending_order(lst):\n",
    "    lst.sort(reverse = True)\n",
    "    return lst\n",
    "print('list in descending order is',sort_list_in_descending_order(lst))"
   ]
  },
  {
   "cell_type": "markdown",
   "metadata": {},
   "source": [
    "13. Create a list of even numbers from 1 to 20."
   ]
  },
  {
   "cell_type": "code",
   "execution_count": 313,
   "metadata": {},
   "outputs": [
    {
     "name": "stdout",
     "output_type": "stream",
     "text": [
      "list of even number is [2, 4, 6, 8, 10, 12, 14, 16, 18, 20]\n"
     ]
    }
   ],
   "source": [
    "def even_number_lst():\n",
    "    lst=[]\n",
    "    for i in range(1,21):\n",
    "        if i%2 == 0:\n",
    "         lst.append(i)\n",
    "    return lst\n",
    "print('list of even number is',even_number_lst())"
   ]
  },
  {
   "cell_type": "markdown",
   "metadata": {},
   "source": [
    "14. Create a list of odd numbers from 1 to 20."
   ]
  },
  {
   "cell_type": "code",
   "execution_count": 315,
   "metadata": {},
   "outputs": [
    {
     "name": "stdout",
     "output_type": "stream",
     "text": [
      "list of odd number is [1, 3, 5, 7, 9, 11, 13, 15, 17, 19]\n"
     ]
    }
   ],
   "source": [
    "def odd_number_lst():\n",
    "    lst =[]\n",
    "    for i in range(1,21):\n",
    "        if i%2 != 0:\n",
    "            lst.append(i)\n",
    "    return lst\n",
    "print('list of odd number is', odd_number_lst())"
   ]
  },
  {
   "cell_type": "markdown",
   "metadata": {},
   "source": [
    "15. Find the sum of all elements in a list"
   ]
  },
  {
   "cell_type": "code",
   "execution_count": 316,
   "metadata": {},
   "outputs": [
    {
     "name": "stdout",
     "output_type": "stream",
     "text": [
      "the sum of all element in a list is: 100\n"
     ]
    }
   ],
   "source": [
    "lst = [1, 3, 5, 7, 9, 11, 13, 15, 17, 19]\n",
    "def sum_of_all_lst_elements(lst):\n",
    "    return sum(lst)\n",
    "print('the sum of all element in a list is:',sum_of_all_lst_elements(lst))"
   ]
  },
  {
   "cell_type": "markdown",
   "metadata": {},
   "source": [
    "16. Find the maximum value in a list."
   ]
  },
  {
   "cell_type": "code",
   "execution_count": 320,
   "metadata": {},
   "outputs": [
    {
     "name": "stdout",
     "output_type": "stream",
     "text": [
      "maximum value in list is: 19\n"
     ]
    }
   ],
   "source": [
    "lst = [1,3,5,7,9,11,13,15,17,19]\n",
    "def max_value_in_lst(lst):\n",
    "    max_value = 0\n",
    "    for i in lst:\n",
    "     if i == max(lst):\n",
    "        max_value += i\n",
    "    return max_value  \n",
    "print('maximum value in list is:',max_value_in_lst(lst))"
   ]
  },
  {
   "cell_type": "markdown",
   "metadata": {},
   "source": [
    "17. Find the minimum value in a list."
   ]
  },
  {
   "cell_type": "code",
   "execution_count": 321,
   "metadata": {},
   "outputs": [
    {
     "name": "stdout",
     "output_type": "stream",
     "text": [
      "minimum value in list is: 1\n"
     ]
    }
   ],
   "source": [
    "lst = [1,3,5,7,9,11,13,15,17,19]\n",
    "def min_value_in_lst(lst):\n",
    "    min_value = 0\n",
    "    for i in lst:\n",
    "     if i == min(lst):\n",
    "        min_value += i\n",
    "    return min_value  \n",
    "print('minimum value in list is:',min_value_in_lst(lst))"
   ]
  },
  {
   "cell_type": "markdown",
   "metadata": {},
   "source": [
    "18. Create a list of squares of numbers from 1 to 10.\n"
   ]
  },
  {
   "cell_type": "code",
   "execution_count": 322,
   "metadata": {},
   "outputs": [
    {
     "name": "stdout",
     "output_type": "stream",
     "text": [
      "list of square number is [1, 4, 9, 16, 25, 36, 49, 64, 81, 100]\n"
     ]
    }
   ],
   "source": [
    "def lst_of_square_numbers():\n",
    "    square_lst = []\n",
    "    for i in range(1,11):\n",
    "        square_lst.append(i**2)\n",
    "    return square_lst\n",
    "print('list of square number is', lst_of_square_numbers())"
   ]
  },
  {
   "cell_type": "markdown",
   "metadata": {},
   "source": [
    "19. Create a list of random numbers"
   ]
  },
  {
   "cell_type": "code",
   "execution_count": 323,
   "metadata": {},
   "outputs": [
    {
     "name": "stdout",
     "output_type": "stream",
     "text": [
      "list of random numbes is: [65, 4, 61, 7, 1, 37, 65, 92, 54, 73]\n"
     ]
    }
   ],
   "source": [
    "import random\n",
    "random_integers = [random.randint(1,100)for _ in range(10)]\n",
    "print('list of random numbes is:',random_integers)"
   ]
  },
  {
   "cell_type": "markdown",
   "metadata": {},
   "source": [
    "20. Remove duplicates from a list.\n"
   ]
  },
  {
   "cell_type": "code",
   "execution_count": 329,
   "metadata": {},
   "outputs": [
    {
     "name": "stdout",
     "output_type": "stream",
     "text": [
      "('[2]', [(3+6j), 3.45, 'saurav', 2, 1])\n"
     ]
    }
   ],
   "source": [
    "lst = [2, (3+6j), 3.45, 'saurav', 2, 1]\n",
    "def remove_duplicates_from_lst(lst):\n",
    "    modified_lst = []\n",
    "    for i in lst:\n",
    "        if lst.count(i) >= 2:\n",
    "            lst.remove(i)\n",
    "            modified_lst.append(i)\n",
    "    return str(modified_lst),lst\n",
    "print(remove_duplicates_from_lst(lst))        "
   ]
  },
  {
   "cell_type": "markdown",
   "metadata": {},
   "source": [
    "21. Find the common elements between two lists."
   ]
  },
  {
   "cell_type": "code",
   "execution_count": 330,
   "metadata": {},
   "outputs": [
    {
     "name": "stdout",
     "output_type": "stream",
     "text": [
      "common elements between lists are: [1, 2, 'saurav']\n"
     ]
    }
   ],
   "source": [
    "l1 = [1,2,3,4,'saurav']\n",
    "l2 = [1,2,5,6,'saurav']\n",
    "modified_lst = []\n",
    "def common_elements_between_lists():\n",
    "    for i in l1:\n",
    "        if i in l2:\n",
    "            modified_lst.append(i)\n",
    "    return modified_lst\n",
    "print('common elements between lists are:',\n",
    "      common_elements_between_lists())"
   ]
  },
  {
   "cell_type": "markdown",
   "metadata": {},
   "source": [
    "22. Find the difference between two lists."
   ]
  },
  {
   "cell_type": "code",
   "execution_count": 331,
   "metadata": {},
   "outputs": [
    {
     "name": "stdout",
     "output_type": "stream",
     "text": [
      "difference between two lists: [3, 4]\n"
     ]
    }
   ],
   "source": [
    "l1 = [1,2,3,4,'saurav']\n",
    "l2 = [1,2,5,6,'saurav']\n",
    "def difference_between_two_lists():\n",
    "    modified_lst = []\n",
    "    for i in l1:\n",
    "        if not i in l2:\n",
    "            modified_lst.append(i)\n",
    "    return modified_lst\n",
    "print('difference between two lists:',difference_between_two_lists())"
   ]
  },
  {
   "cell_type": "markdown",
   "metadata": {},
   "source": [
    "23. Merge two lists."
   ]
  },
  {
   "cell_type": "code",
   "execution_count": 332,
   "metadata": {},
   "outputs": [
    {
     "name": "stdout",
     "output_type": "stream",
     "text": [
      "merge two list [1, 2, 3, 4, 'saurav', 1, 2, 5, 6, 'saurav']\n"
     ]
    }
   ],
   "source": [
    "l1 = [1,2,3,4,'saurav']\n",
    "l2 = [1,2,5,6,'saurav']\n",
    "def merge_two_lst():\n",
    "    return l1 + l2\n",
    "print('merge two list',merge_two_lst())"
   ]
  },
  {
   "cell_type": "markdown",
   "metadata": {},
   "source": [
    "24. Multiply all elements in a list by 2.\n"
   ]
  },
  {
   "cell_type": "code",
   "execution_count": 333,
   "metadata": {},
   "outputs": [
    {
     "name": "stdout",
     "output_type": "stream",
     "text": [
      "([1, 2, 3, 4, 'saurav'], [2, 4, 6, 8, 'sauravsaurav'])\n"
     ]
    }
   ],
   "source": [
    "lst = [1,2,3,4,'saurav']\n",
    "def multiply_lst_elements_by_2(lst):\n",
    "    modified_lst = []\n",
    "    for i in lst:\n",
    "        modified_lst.append(i*2)\n",
    "    return lst,modified_lst\n",
    "print(multiply_lst_elements_by_2(lst))"
   ]
  },
  {
   "cell_type": "markdown",
   "metadata": {},
   "source": [
    "25. Filter out all even numbers from a list."
   ]
  },
  {
   "cell_type": "code",
   "execution_count": 102,
   "metadata": {},
   "outputs": [
    {
     "name": "stdout",
     "output_type": "stream",
     "text": [
      "after filtering out of all even number of list [1, 2, 3, 4, 5, 6, 7, 8, 9, 10] is [1, 3, 5, 7, 9]\n"
     ]
    }
   ],
   "source": [
    "def filter_out_lst_even_numbers():\n",
    "    lst = []\n",
    "    for i in list(range(1,11)):\n",
    "        if i%2 != 0:\n",
    "            lst.append(i)\n",
    "    return lst\n",
    "lst1 = list(range(1,11))\n",
    "result = filter_out_lst_even_numbers()\n",
    "print(f'after filtering out of all even number of list {lst1} is {result}')"
   ]
  },
  {
   "cell_type": "markdown",
   "metadata": {},
   "source": [
    "26. Convert a list of strings to a list of integers.\n"
   ]
  },
  {
   "cell_type": "code",
   "execution_count": 341,
   "metadata": {},
   "outputs": [
    {
     "name": "stdout",
     "output_type": "stream",
     "text": [
      "converted list of string ['1', '2', '3', '4', '5'] into integer is: [1, 2, 3, 4, 5]\n"
     ]
    }
   ],
   "source": [
    "lst = ['1','2','3','4','5']\n",
    "def convert_str_list_to_int_list(lst):\n",
    "    modified_lst=[]\n",
    "    for i in lst:\n",
    "        modified_lst.append(int(i))\n",
    "    return modified_lst\n",
    "result = convert_str_list_to_int_list(lst)\n",
    "print(f'converted list of string {lst} into integer is:',result)    "
   ]
  },
  {
   "cell_type": "markdown",
   "metadata": {},
   "source": [
    "27. Convert a list of integers to a list of strings."
   ]
  },
  {
   "cell_type": "code",
   "execution_count": 342,
   "metadata": {},
   "outputs": [
    {
     "name": "stdout",
     "output_type": "stream",
     "text": [
      "converted list of integer [1, 2, 3, 4, 5] into string is: ['1', '2', '3', '4', '5']\n"
     ]
    }
   ],
   "source": [
    "lst = [1,2,3,4,5]\n",
    "def convert_int_list_to_str_list(lst):\n",
    "    modified_lst=[]\n",
    "    for i in lst:\n",
    "        modified_lst.append(str(i))\n",
    "    return modified_lst\n",
    "result = convert_int_list_to_str_list(lst)\n",
    "print(f'converted list of integer {lst} into string is:',result) "
   ]
  },
  {
   "cell_type": "markdown",
   "metadata": {},
   "source": [
    "28. Flatten a nested list.\n"
   ]
  },
  {
   "cell_type": "code",
   "execution_count": 344,
   "metadata": {},
   "outputs": [
    {
     "name": "stdout",
     "output_type": "stream",
     "text": [
      "flatten a nested list [[1, 2, 3], [4, 5], [6, 7, 8, 9]] is [1, 2, 3, 4, 5, 6, 7, 8, 9]\n"
     ]
    }
   ],
   "source": [
    "nested_list = [[1, 2, 3], [4, 5], [6, 7, 8, 9]]\n",
    "def flatten_nested_list(nested_list):\n",
    "    modified_lst = []\n",
    "    for i in nested_list:\n",
    "        modified_lst.extend(i)\n",
    "    return modified_lst\n",
    "result = flatten_nested_list(nested_list)\n",
    "print(f'flatten a nested list {nested_list} is {result}')"
   ]
  },
  {
   "cell_type": "markdown",
   "metadata": {},
   "source": [
    "29. Create a list of the first 10 Fibonacci numbers.\n"
   ]
  },
  {
   "cell_type": "code",
   "execution_count": 363,
   "metadata": {},
   "outputs": [
    {
     "name": "stdout",
     "output_type": "stream",
     "text": [
      "Fibonacci Series: [1, 1, 2, 3, 5, 8, 13, 21, 34, 55]\n"
     ]
    }
   ],
   "source": [
    "num = 10 \n",
    "n1, n2 = 1, 1  \n",
    "fibonacci_sequence = [n1, n2]  \n",
    "\n",
    "for _ in range(2, num):\n",
    "    n3 = n1 + n2\n",
    "    fibonacci_sequence.append(n3) \n",
    "    n1, n2 = n2, n3\n",
    "\n",
    "print(\"Fibonacci Series:\", fibonacci_sequence)"
   ]
  },
  {
   "cell_type": "markdown",
   "metadata": {},
   "source": [
    "30. Check if a list is sorted."
   ]
  },
  {
   "cell_type": "code",
   "execution_count": 371,
   "metadata": {},
   "outputs": [
    {
     "name": "stdout",
     "output_type": "stream",
     "text": [
      "True\n"
     ]
    }
   ],
   "source": [
    "lst=[1, 1, 2, 3, 5, 8, 13, 21, 34, 55]\n",
    "def is_lst_sorted(lst):\n",
    "    sorted_lst = sorted(lst)\n",
    "    if lst ==sorted_lst:\n",
    "        return True\n",
    "    else:\n",
    "        return False\n",
    "print(is_lst_sorted(lst))"
   ]
  },
  {
   "cell_type": "markdown",
   "metadata": {},
   "source": [
    "31. Rotate a list to the left by `n` positions."
   ]
  },
  {
   "cell_type": "code",
   "execution_count": 374,
   "metadata": {},
   "outputs": [
    {
     "name": "stdout",
     "output_type": "stream",
     "text": [
      "after rotating list to the left is: [4, 'saurav', 'python', 1, 2, 3]\n"
     ]
    }
   ],
   "source": [
    "def rotate_lst_left(lst,n):\n",
    "    n = n%len(lst)\n",
    "    rotated = lst[n:]+lst[:n]\n",
    "    return rotated\n",
    "n = 3\n",
    "lst = [1,2,3,4,'saurav','python']\n",
    "rotated_list = rotate_lst_left(lst,n)\n",
    "print('after rotating list to the left is:',rotated_list)"
   ]
  },
  {
   "cell_type": "markdown",
   "metadata": {},
   "source": [
    "32. Rotate a list to the right by `n` positions."
   ]
  },
  {
   "cell_type": "code",
   "execution_count": 375,
   "metadata": {},
   "outputs": [
    {
     "name": "stdout",
     "output_type": "stream",
     "text": [
      "after rotating list to the right is: ['saurav', 'python', 1, 2, 3, 4]\n"
     ]
    }
   ],
   "source": [
    "def rotate_lst_right(lst,n):\n",
    "    n = n%len(lst)\n",
    "    rotated =lst[-n:]+lst[:-n]\n",
    "    return rotated\n",
    "n = eval(input(\"enter the number to rotate:\"))\n",
    "lst = [1,2,3,4,'saurav','python']\n",
    "rotated_list =  rotate_lst_right(lst,n)\n",
    "print('after rotating list to the right is:',rotated_list)"
   ]
  },
  {
   "cell_type": "markdown",
   "metadata": {},
   "source": [
    "33. Create a list of prime numbers up to 50.\n"
   ]
  },
  {
   "cell_type": "code",
   "execution_count": 394,
   "metadata": {},
   "outputs": [
    {
     "name": "stdout",
     "output_type": "stream",
     "text": [
      "List of prime numbers up to 50 is: [2, 3, 5, 7, 11, 13, 17, 19, 23, 29, 31, 37, 41, 43, 47]\n"
     ]
    }
   ],
   "source": [
    "def prime_number_lst_upto_50():\n",
    "    prime_num_lst = []\n",
    "    for num in range(2, 51):  \n",
    "        is_prime = True\n",
    "        for i in range(2, num):\n",
    "            if num % i == 0:\n",
    "                is_prime = False\n",
    "                break\n",
    "        if is_prime:\n",
    "            prime_num_lst.append(num)\n",
    "    return prime_num_lst\n",
    "\n",
    "print('List of prime numbers up to 50 is:', prime_number_lst_upto_50())"
   ]
  },
  {
   "cell_type": "markdown",
   "metadata": {},
   "source": [
    "34. Split a list into chunks of size `n`."
   ]
  },
  {
   "cell_type": "code",
   "execution_count": 398,
   "metadata": {},
   "outputs": [
    {
     "name": "stdout",
     "output_type": "stream",
     "text": [
      "[[2, 3, 5], [7, 11, 13], [17, 19, 23], [29, 31, 37], [41, 43, 47]]\n"
     ]
    }
   ],
   "source": [
    "lst = [2, 3, 5, 7, 11, 13, 17, 19, 23, 29, 31, 37, 41, 43, 47]\n",
    "def split_lst_into_chunks(lst,n):\n",
    "    chunked_lst = []\n",
    "    for i in range(0,len(lst),n):\n",
    "        chunked_lst.append(lst[i:i+n])\n",
    "    return chunked_lst\n",
    "n = eval(input('enter the number:'))\n",
    "print(split_lst_into_chunks(lst,n))\n",
    "    "
   ]
  },
  {
   "cell_type": "markdown",
   "metadata": {},
   "source": [
    "35. Find the second largest number in a list."
   ]
  },
  {
   "cell_type": "code",
   "execution_count": 400,
   "metadata": {},
   "outputs": [
    {
     "name": "stdout",
     "output_type": "stream",
     "text": [
      "43\n"
     ]
    }
   ],
   "source": [
    "lst = [2, 3, 5, 7, 11, 13, 17, 19, 23, 29, 31, 37, 41, 43, 47]\n",
    "def second_largest_num_in_lst(lst):\n",
    "    sorted_lst = sorted(lst)\n",
    "    return sorted_lst[-2]\n",
    "print(second_largest_num_in_lst(lst))"
   ]
  },
  {
   "cell_type": "markdown",
   "metadata": {},
   "source": [
    "36. Replace every element in a list with its square."
   ]
  },
  {
   "cell_type": "code",
   "execution_count": 403,
   "metadata": {},
   "outputs": [
    {
     "name": "stdout",
     "output_type": "stream",
     "text": [
      "[1, 4, 9, 16, 25]\n"
     ]
    }
   ],
   "source": [
    "def replace_element_in_list_with_its_square():\n",
    "    square_lst = []\n",
    "    for i in lst:\n",
    "        j = i**2\n",
    "        square_lst.append(j)\n",
    "    return square_lst\n",
    "lst = [1,2,3,4,5]\n",
    "print(replace_element_in_list_with_its_square())"
   ]
  },
  {
   "cell_type": "markdown",
   "metadata": {},
   "source": [
    "37. Convert a list to a dictionary where list elements become keys and their\n",
    "indices become values.\n"
   ]
  },
  {
   "cell_type": "code",
   "execution_count": 405,
   "metadata": {},
   "outputs": [
    {
     "name": "stdout",
     "output_type": "stream",
     "text": [
      "{1: 0, 2: 1, 3: 2, 4: 3, 5: 4}\n"
     ]
    }
   ],
   "source": [
    "lst = [1,2,3,4,5]\n",
    "def convert_lst_into_dict():\n",
    "    dictionary = {}\n",
    "    for i in lst:\n",
    "        indices = lst.index(i)\n",
    "        dictionary[i] = indices\n",
    "    return dictionary\n",
    "print(convert_lst_into_dict())\n"
   ]
  },
  {
   "cell_type": "markdown",
   "metadata": {},
   "source": [
    "38. Shuffle the elements of a list randomly."
   ]
  },
  {
   "cell_type": "code",
   "execution_count": 407,
   "metadata": {},
   "outputs": [
    {
     "name": "stdout",
     "output_type": "stream",
     "text": [
      "['python', 'saurav', 3, 1, 2]\n"
     ]
    }
   ],
   "source": [
    "import random\n",
    "def shuffle_lst_element_randomly(lst):\n",
    "    shuffle_lst_element_randomly = random.shuffle(lst)\n",
    "    return lst\n",
    "lst = [1,'saurav',2,3,'python']\n",
    "print(shuffle_lst_element_randomly(lst))\n",
    "        "
   ]
  },
  {
   "cell_type": "markdown",
   "metadata": {},
   "source": [
    "39. Create a list of the first 10 factorial numbers."
   ]
  },
  {
   "cell_type": "code",
   "execution_count": 413,
   "metadata": {},
   "outputs": [
    {
     "name": "stdout",
     "output_type": "stream",
     "text": [
      "List of the first 10 factorial numbers: [1, 1, 2, 6, 24, 120, 720, 5040, 40320, 362880]\n"
     ]
    }
   ],
   "source": [
    "def factorial(n):\n",
    "    if n == 0 or n == 1:\n",
    "        return 1\n",
    "    else:\n",
    "        return n * factorial(n - 1)\n",
    "\n",
    "# Create a list of the first 10 factorial numbers\n",
    "factorial_numbers = [factorial(i) for i in range(10)]\n",
    "\n",
    "# Print the list of factorial numbers\n",
    "print(\"List of the first 10 factorial numbers:\", factorial_numbers)"
   ]
  },
  {
   "cell_type": "markdown",
   "metadata": {},
   "source": [
    "40. Check if two lists have at least one element in common.\n"
   ]
  },
  {
   "cell_type": "code",
   "execution_count": 419,
   "metadata": {},
   "outputs": [
    {
     "name": "stdout",
     "output_type": "stream",
     "text": [
      "True\n"
     ]
    }
   ],
   "source": [
    "l1 = [1,2,3,4,5]\n",
    "l2 = [4,5,6,7]\n",
    "def does_have_common_element_in_lst():\n",
    "    is_common_element = False\n",
    "    for i in l1:\n",
    "        for j in l2:\n",
    "            if i==j:\n",
    "                is_common_element = True\n",
    "                break\n",
    "        if is_common_element:\n",
    "            break\n",
    "    return is_common_element\n",
    "print(does_have_common_element_in_lst())\n",
    "\n"
   ]
  },
  {
   "cell_type": "markdown",
   "metadata": {},
   "source": [
    "41. Remove all elements from a list.\n"
   ]
  },
  {
   "cell_type": "code",
   "execution_count": 423,
   "metadata": {},
   "outputs": [
    {
     "name": "stdout",
     "output_type": "stream",
     "text": [
      "after removeing all element from list ['saurav', 1, 2, 'python'] is []\n"
     ]
    }
   ],
   "source": [
    "def remove_lst_elements(lst):\n",
    "    lst.clear()\n",
    "    return lst\n",
    "lst = [\"saurav\",1,2,\"python\"]\n",
    "print(f\"after removeing all element from list {lst} is {remove_lst_elements(lst)}\")"
   ]
  },
  {
   "cell_type": "markdown",
   "metadata": {},
   "source": [
    "42. Replace negative numbers in a list with 0.\n"
   ]
  },
  {
   "cell_type": "code",
   "execution_count": 432,
   "metadata": {},
   "outputs": [
    {
     "name": "stdout",
     "output_type": "stream",
     "text": [
      "[0, 2, 0]\n"
     ]
    }
   ],
   "source": [
    "lst = [-1,2,-3]\n",
    "def replace_negative_number_with_0():\n",
    "    for i in range(len(lst)):\n",
    "        if lst[i]<0:\n",
    "            lst[i] = 0\n",
    "    \n",
    "    return lst\n",
    "print(replace_negative_number_with_0())"
   ]
  },
  {
   "cell_type": "markdown",
   "metadata": {},
   "source": [
    "43. Convert a string into a list of words.\n"
   ]
  },
  {
   "cell_type": "code",
   "execution_count": 436,
   "metadata": {},
   "outputs": [
    {
     "name": "stdout",
     "output_type": "stream",
     "text": [
      "after converting string this is my first codinginto list of word is ['this', 'is', 'my', 'first', 'coding']\n"
     ]
    }
   ],
   "source": [
    "def convert_str_into_lst_of_words():\n",
    "    return input_str.split()\n",
    "input_str = 'this is my first coding'\n",
    "print(f'after converting string {input_str}into list of word is {convert_str_into_lst_of_words()}')"
   ]
  },
  {
   "cell_type": "markdown",
   "metadata": {},
   "source": [
    "44. Convert a list of words into a string"
   ]
  },
  {
   "cell_type": "code",
   "execution_count": 439,
   "metadata": {},
   "outputs": [
    {
     "name": "stdout",
     "output_type": "stream",
     "text": [
      "after converting a list of words ['this', 'is', 'my', 'first', 'coding'] into a string is:- this is my first coding\n"
     ]
    }
   ],
   "source": [
    "def convert_lst_of_words_into_str():\n",
    "    return ' '.join(lst)\n",
    "lst = ['this', 'is', 'my', 'first', 'coding']\n",
    "print(f'after converting a list of words {lst} into a string is:- {convert_lst_of_words_into_str()}')"
   ]
  },
  {
   "cell_type": "markdown",
   "metadata": {},
   "source": [
    "45. Create a list of the first `n` powers of 2.\n"
   ]
  },
  {
   "cell_type": "code",
   "execution_count": 440,
   "metadata": {},
   "outputs": [
    {
     "name": "stdout",
     "output_type": "stream",
     "text": [
      "list of the first power of 2 is [1, 2, 4, 8, 16, 32]\n"
     ]
    }
   ],
   "source": [
    "n = eval(input('enter number'))\n",
    "def list_of_the_firs_n_powers_of_2():\n",
    "    lst_of_powers_of_2 = []\n",
    "    for i in range(n):\n",
    "        lst_of_powers_of_2.append(2**i)\n",
    "    return lst_of_powers_of_2\n",
    "print('list of the first power of 2 is',list_of_the_firs_n_powers_of_2())   "
   ]
  },
  {
   "cell_type": "markdown",
   "metadata": {},
   "source": [
    "46. Find the longest string in a list of strings.\n"
   ]
  },
  {
   "cell_type": "code",
   "execution_count": 442,
   "metadata": {},
   "outputs": [
    {
     "name": "stdout",
     "output_type": "stream",
     "text": [
      "longest word from the string is  intelligent\n"
     ]
    }
   ],
   "source": [
    "lst = ['saurav','intelligent','python','kiran']\n",
    "def longest_str_in_str_lst():\n",
    "    longest_str_word = ''\n",
    "    max_length = 0\n",
    "    for i in lst:\n",
    "        if len(i)>max_length:\n",
    "            max_length = len(i)\n",
    "            longest_str_word = i\n",
    "    return longest_str_word\n",
    "print('longest word from the string is ',longest_str_in_str_lst())\n"
   ]
  },
  {
   "cell_type": "markdown",
   "metadata": {},
   "source": [
    "47. Find the shortest string in a list of strings"
   ]
  },
  {
   "cell_type": "code",
   "execution_count": 445,
   "metadata": {},
   "outputs": [
    {
     "name": "stdout",
     "output_type": "stream",
     "text": [
      "p\n"
     ]
    }
   ],
   "source": [
    "lst = ['saurav','pw','intelligent','python','p','kiran']\n",
    "def shortest_str_in_str_lst():\n",
    "    shortest_str_word = lst[0]\n",
    "    min_length = len(lst[0])\n",
    "    for i in lst:\n",
    "        if len(i)< min_length:\n",
    "            min_length = len(i)\n",
    "            shortest_str_word = i\n",
    "    return shortest_str_word\n",
    "print(shortest_str_in_str_lst())"
   ]
  },
  {
   "cell_type": "markdown",
   "metadata": {},
   "source": [
    "48. Create a list of the first `n` triangular numbers.\n"
   ]
  },
  {
   "cell_type": "code",
   "execution_count": 448,
   "metadata": {},
   "outputs": [
    {
     "name": "stdout",
     "output_type": "stream",
     "text": [
      "list of first 7 triangular number is:-[1, 3, 6, 10, 15, 21, 28]\n"
     ]
    }
   ],
   "source": [
    "n = eval(input(\"enter the number\"))\n",
    "def lst_of_the_first_n_triangular_numbers():\n",
    "    triangular_number_lst = []\n",
    "    for i in range(1,n+1,1):\n",
    "        T_n = i*(i+1)//2\n",
    "        triangular_number_lst.append(T_n)\n",
    "    return triangular_number_lst\n",
    "print(f'list of first {n} triangular number is:-{lst_of_the_first_n_triangular_numbers()}')"
   ]
  },
  {
   "cell_type": "markdown",
   "metadata": {},
   "source": [
    "49. Check if a list contains another list as a subsequence."
   ]
  },
  {
   "cell_type": "code",
   "execution_count": 455,
   "metadata": {},
   "outputs": [
    {
     "name": "stdout",
     "output_type": "stream",
     "text": [
      "True\n"
     ]
    }
   ],
   "source": [
    "l1 = [1,2,3,4,5,6]\n",
    "l2 = [2,4,6]\n",
    "def does_lst_contain_lst_as_subsequence(l1, l2):\n",
    "    len1 = len(l1)\n",
    "    len2 = len(l2)\n",
    "    j = 0  \n",
    "    \n",
    "    for i in range(len1):\n",
    "        if j < len2 and l1[i] == l2[j]:\n",
    "            j += 1 \n",
    "        \n",
    "        if j == len2: \n",
    "            return True\n",
    "    \n",
    "    return False\n",
    "                \n",
    "print(does_lst_contain_lst_as_subsequence(l1,l2))"
   ]
  },
  {
   "cell_type": "markdown",
   "metadata": {},
   "source": [
    "50. Swap two elements in a list by their indices.\n"
   ]
  },
  {
   "cell_type": "code",
   "execution_count": 459,
   "metadata": {},
   "outputs": [
    {
     "name": "stdout",
     "output_type": "stream",
     "text": [
      "List after swapping elements: [1, 4, 3, 2, 5]\n"
     ]
    }
   ],
   "source": [
    "lst = [1, 2, 3, 4, 5]\n",
    "\n",
    "\n",
    "index1 = 1\n",
    "index2 = 3\n",
    "\n",
    "temp = lst[index1]\n",
    "lst[index1] = lst[index2]\n",
    "lst[index2] = temp\n",
    "\n",
    "print(\"List after swapping elements:\", lst)"
   ]
  },
  {
   "cell_type": "markdown",
   "metadata": {},
   "source": [
    "Tuple Based Practice Problem :"
   ]
  },
  {
   "cell_type": "markdown",
   "metadata": {},
   "source": [
    "1. Create a tuple with integers from 1 to 5.\n"
   ]
  },
  {
   "cell_type": "code",
   "execution_count": 461,
   "metadata": {},
   "outputs": [
    {
     "name": "stdout",
     "output_type": "stream",
     "text": [
      "(1, 2, 3, 4, 5)\n"
     ]
    }
   ],
   "source": [
    "print(tuple(range(1,6)))"
   ]
  },
  {
   "cell_type": "markdown",
   "metadata": {},
   "source": [
    "2. Access the third element of a tuple.\n"
   ]
  },
  {
   "cell_type": "code",
   "execution_count": 462,
   "metadata": {},
   "outputs": [
    {
     "name": "stdout",
     "output_type": "stream",
     "text": [
      "3\n"
     ]
    }
   ],
   "source": [
    "t = (1, 2, 3, 4, 5)\n",
    "print(t[2])"
   ]
  },
  {
   "cell_type": "markdown",
   "metadata": {},
   "source": [
    "3. Find the length of a tuple without using the `len()` function"
   ]
  },
  {
   "cell_type": "code",
   "execution_count": 465,
   "metadata": {},
   "outputs": [
    {
     "name": "stdout",
     "output_type": "stream",
     "text": [
      "5\n"
     ]
    }
   ],
   "source": [
    "t = (1,2,3,4,5)\n",
    "def length_of_tuple():\n",
    "    tuple_length = 0\n",
    "    for i in t:\n",
    "        tuple_length += 1\n",
    "    return tuple_length\n",
    "print(length_of_tuple())"
   ]
  },
  {
   "cell_type": "markdown",
   "metadata": {},
   "source": [
    "4. Count the occurrences of an element in a tuple.\n"
   ]
  },
  {
   "cell_type": "code",
   "execution_count": 469,
   "metadata": {},
   "outputs": [
    {
     "name": "stdout",
     "output_type": "stream",
     "text": [
      "{1: 1, 2: 1, 3: 1, 4: 1, 5: 1}\n"
     ]
    }
   ],
   "source": [
    "def count_occurrences_element_in_tuple():\n",
    "    dicti ={}\n",
    "    for i in t:\n",
    "        if i in dicti:\n",
    "            dicti[i] +=1\n",
    "        else:\n",
    "            dicti[i] = 1\n",
    "    return dicti\n",
    "print(count_occurrences_element_in_tuple())"
   ]
  },
  {
   "cell_type": "markdown",
   "metadata": {},
   "source": [
    "5. Find the index of the first occurrence of an element in a tuple.\n"
   ]
  },
  {
   "cell_type": "code",
   "execution_count": 3,
   "metadata": {},
   "outputs": [
    {
     "name": "stdout",
     "output_type": "stream",
     "text": [
      "3\n"
     ]
    }
   ],
   "source": [
    "t = (1,2,3,45,5,2)\n",
    "def index_of_first_occurrence_element_in_tuple(t):\n",
    "    l = list(t)\n",
    "    return l.index(45)\n",
    "print(index_of_first_occurrence_element_in_tuple(t))"
   ]
  },
  {
   "cell_type": "markdown",
   "metadata": {},
   "source": [
    "6. Check if an element exists in a tuple."
   ]
  },
  {
   "cell_type": "code",
   "execution_count": 6,
   "metadata": {},
   "outputs": [
    {
     "name": "stdout",
     "output_type": "stream",
     "text": [
      "True\n"
     ]
    }
   ],
   "source": [
    "t = (1,2,3,45,5,2)\n",
    "def does_element_exist_in_tuple():\n",
    "    element_exist = False\n",
    "    if n in t:\n",
    "        element_exist = True\n",
    "    else:\n",
    "        element_exist = False\n",
    "    return element_exist\n",
    "n = eval(input('enter the num'))\n",
    "print(does_element_exist_in_tuple())"
   ]
  },
  {
   "cell_type": "markdown",
   "metadata": {},
   "source": [
    "7. Convert a tuple to a list.\n"
   ]
  },
  {
   "cell_type": "code",
   "execution_count": 7,
   "metadata": {},
   "outputs": [
    {
     "name": "stdout",
     "output_type": "stream",
     "text": [
      "[1, 2, 3, 45, 5, 2]\n"
     ]
    }
   ],
   "source": [
    "t = (1,2,3,45,5,2)\n",
    "def convert_tuple_to_lst():\n",
    "    return list(tuple(t))\n",
    "print(convert_tuple_to_lst())\n"
   ]
  },
  {
   "cell_type": "markdown",
   "metadata": {},
   "source": [
    "8. Convert a list to a tuple"
   ]
  },
  {
   "cell_type": "code",
   "execution_count": 8,
   "metadata": {},
   "outputs": [
    {
     "name": "stdout",
     "output_type": "stream",
     "text": [
      "(1, 2, 3, 4, 5)\n"
     ]
    }
   ],
   "source": [
    "l = [1,2,3,4,5]\n",
    "def convert_lst_to_tuple():\n",
    "    return tuple(l)\n",
    "print(convert_lst_to_tuple())"
   ]
  },
  {
   "cell_type": "markdown",
   "metadata": {},
   "source": [
    "9. Unpack the elements of a tuple into variables.\n"
   ]
  },
  {
   "cell_type": "code",
   "execution_count": 9,
   "metadata": {},
   "outputs": [
    {
     "name": "stdout",
     "output_type": "stream",
     "text": [
      "1 2 3\n"
     ]
    }
   ],
   "source": [
    "t = (1,2,3)\n",
    "n1,n2,n3 = t\n",
    "print(n1,n2,n3)"
   ]
  },
  {
   "cell_type": "markdown",
   "metadata": {},
   "source": [
    "10. Create a tuple of even numbers from 1 to 10."
   ]
  },
  {
   "cell_type": "code",
   "execution_count": 10,
   "metadata": {},
   "outputs": [
    {
     "name": "stdout",
     "output_type": "stream",
     "text": [
      "(2, 4, 6, 8, 10)\n"
     ]
    }
   ],
   "source": [
    "def tuple_of_even_num():\n",
    "    lst = []\n",
    "    for i in range(1,11):\n",
    "        if i%2 == 0:\n",
    "            lst.append(i)\n",
    "    return tuple(lst)\n",
    "print(tuple_of_even_num())"
   ]
  },
  {
   "cell_type": "markdown",
   "metadata": {},
   "source": [
    "11. Create a tuple of odd numbers from 1 to 10.\n"
   ]
  },
  {
   "cell_type": "code",
   "execution_count": 11,
   "metadata": {},
   "outputs": [
    {
     "name": "stdout",
     "output_type": "stream",
     "text": [
      "(1, 3, 5, 7, 9)\n"
     ]
    }
   ],
   "source": [
    "def tuple_of_odd_num():\n",
    "    lst = []\n",
    "    for i in range(1,11):\n",
    "        if i%2 != 0:\n",
    "            lst.append(i)\n",
    "    return tuple(lst)\n",
    "print(tuple_of_odd_num())"
   ]
  },
  {
   "cell_type": "markdown",
   "metadata": {},
   "source": [
    "12. Concatenate two tuples."
   ]
  },
  {
   "cell_type": "code",
   "execution_count": 12,
   "metadata": {},
   "outputs": [
    {
     "name": "stdout",
     "output_type": "stream",
     "text": [
      "(1, 2, 3, 4, 5, 6, 7, 8, 9)\n"
     ]
    }
   ],
   "source": [
    "t1 = (1,2,3,4,5)\n",
    "t2 = (6,7,8,9)\n",
    "def concatenate_two_tuples(t1,t2):\n",
    "    return t1 + t2\n",
    "print(concatenate_two_tuples(t1,t2))"
   ]
  },
  {
   "cell_type": "markdown",
   "metadata": {},
   "source": [
    "13. Repeat a tuple three times"
   ]
  },
  {
   "cell_type": "code",
   "execution_count": 13,
   "metadata": {},
   "outputs": [
    {
     "name": "stdout",
     "output_type": "stream",
     "text": [
      "(1, 2, 3, 1, 2, 3, 1, 2, 3)\n"
     ]
    }
   ],
   "source": [
    "t = (1,2,3)\n",
    "def repeat_tuple_3_times(t):\n",
    "    return t*3\n",
    "print(repeat_tuple_3_times(t))"
   ]
  },
  {
   "cell_type": "markdown",
   "metadata": {},
   "source": [
    "14. Check if a tuple is empty.\n"
   ]
  },
  {
   "cell_type": "code",
   "execution_count": 21,
   "metadata": {},
   "outputs": [
    {
     "name": "stdout",
     "output_type": "stream",
     "text": [
      "True\n"
     ]
    }
   ],
   "source": [
    "t = ()\n",
    "def is_tuple_empty():\n",
    "    if not t:\n",
    "        return True\n",
    "    else:\n",
    "        return False\n",
    "print(is_tuple_empty())\n"
   ]
  },
  {
   "cell_type": "markdown",
   "metadata": {},
   "source": [
    "15. Create a nested tuple."
   ]
  },
  {
   "cell_type": "code",
   "execution_count": 24,
   "metadata": {},
   "outputs": [
    {
     "name": "stdout",
     "output_type": "stream",
     "text": [
      "nested tuple is ((1, 2, 3, 4), ('a', 'b', 'c', 'd'), (True, False))\n"
     ]
    }
   ],
   "source": [
    "nested_tuple = ((1,2,3,4),('a','b','c','d'),(True,False))\n",
    "print('nested tuple is',nested_tuple)"
   ]
  },
  {
   "cell_type": "markdown",
   "metadata": {},
   "source": [
    "16. Access the first element of a nested tuple."
   ]
  },
  {
   "cell_type": "code",
   "execution_count": 31,
   "metadata": {},
   "outputs": [
    {
     "name": "stdout",
     "output_type": "stream",
     "text": [
      "first element of nested tuple is (1, 2, 3, 4)\n"
     ]
    }
   ],
   "source": [
    "nt = ((1,2,3,4),('a','b','c','d'),(True,False))\n",
    "print('first element of nested tuple is', nt[0])"
   ]
  },
  {
   "cell_type": "markdown",
   "metadata": {},
   "source": [
    "17. Create a tuple with a single element.\n"
   ]
  },
  {
   "cell_type": "code",
   "execution_count": 32,
   "metadata": {},
   "outputs": [
    {
     "name": "stdout",
     "output_type": "stream",
     "text": [
      "<class 'tuple'>\n",
      "single element tuple is (2,)\n"
     ]
    }
   ],
   "source": [
    "t = (2,)\n",
    "print(type(t))\n",
    "print('single element tuple is', t)"
   ]
  },
  {
   "cell_type": "markdown",
   "metadata": {},
   "source": [
    "18. Compare two tuples.\n"
   ]
  },
  {
   "cell_type": "code",
   "execution_count": 39,
   "metadata": {},
   "outputs": [
    {
     "name": "stdout",
     "output_type": "stream",
     "text": [
      "True\n",
      "False\n",
      "False\n",
      "False\n",
      "True\n",
      "True\n",
      "False\n"
     ]
    }
   ],
   "source": [
    "t1 = (1,2,3,'saurav',3.4)\n",
    "t2 = (4,5,6,'kumar',3+5j)\n",
    "print(t1<t2)\n",
    "print(t1>t2)\n",
    "print(t1==t2)\n",
    "print(t1 is t2)\n",
    "print(t1!=t2)\n",
    "print(t1<=t2)\n",
    "print(t1>=t2)"
   ]
  },
  {
   "cell_type": "markdown",
   "metadata": {},
   "source": [
    "19. Delete a tuple.\n"
   ]
  },
  {
   "cell_type": "code",
   "execution_count": 45,
   "metadata": {},
   "outputs": [],
   "source": [
    "t = tuple(range(10))\n",
    "del t"
   ]
  },
  {
   "cell_type": "markdown",
   "metadata": {},
   "source": [
    "20. Slice a tuple."
   ]
  },
  {
   "cell_type": "code",
   "execution_count": 52,
   "metadata": {},
   "outputs": [
    {
     "name": "stdout",
     "output_type": "stream",
     "text": [
      "sliced tuple is (1, 2, 3)\n"
     ]
    }
   ],
   "source": [
    "t = (1,2,3,4,5,6)\n",
    "print('sliced tuple is', t[0:3])\n"
   ]
  },
  {
   "cell_type": "markdown",
   "metadata": {},
   "source": [
    "21. Find the maximum value in a tuple.\n"
   ]
  },
  {
   "cell_type": "code",
   "execution_count": 54,
   "metadata": {},
   "outputs": [
    {
     "name": "stdout",
     "output_type": "stream",
     "text": [
      "max value in tuple is 6\n"
     ]
    }
   ],
   "source": [
    "t = (1,2,3,4,5,6)\n",
    "def max_value_in_tuple():\n",
    "    return max(t)\n",
    "print('max value in tuple is',max_value_in_tuple())      \n"
   ]
  },
  {
   "cell_type": "code",
   "execution_count": 56,
   "metadata": {},
   "outputs": [
    {
     "name": "stdout",
     "output_type": "stream",
     "text": [
      "max value in tuple is 48\n"
     ]
    }
   ],
   "source": [
    "t = (1,4,5,48,34)\n",
    "def max_values_in_tuples():\n",
    "    max_value =t[0]\n",
    "    for value in t:\n",
    "        if value > max_value:\n",
    "           max_value = value \n",
    "    return max_value\n",
    "print('max value in tuple is',max_values_in_tuples() )\n"
   ]
  },
  {
   "cell_type": "markdown",
   "metadata": {},
   "source": [
    "22. Find the minimum value in a tuple.\n"
   ]
  },
  {
   "cell_type": "code",
   "execution_count": 58,
   "metadata": {},
   "outputs": [
    {
     "name": "stdout",
     "output_type": "stream",
     "text": [
      "minimum value in tuple is 1\n"
     ]
    }
   ],
   "source": [
    "t = (1,4,5,48,34)\n",
    "def min_value_in_tuple():\n",
    "    min_value = t[-1]\n",
    "    for i in t:\n",
    "        if i < min_value:\n",
    "            min_value = i\n",
    "    return min_value\n",
    "print('minimum value in tuple is', min_value_in_tuple())"
   ]
  },
  {
   "cell_type": "markdown",
   "metadata": {},
   "source": [
    "23. Convert a string to a tuple of characters"
   ]
  },
  {
   "cell_type": "code",
   "execution_count": 59,
   "metadata": {},
   "outputs": [
    {
     "name": "stdout",
     "output_type": "stream",
     "text": [
      "after converting string into tuple is ('p', 'w', ' ', 's', 'k', 'i', 'l', 'l', 's')\n"
     ]
    }
   ],
   "source": [
    "def convert_str_into_tuple():\n",
    "    return tuple(input_str)\n",
    "input_str = 'pw skills'\n",
    "print('after converting string into tuple is' , convert_str_into_tuple())"
   ]
  },
  {
   "cell_type": "markdown",
   "metadata": {},
   "source": [
    "24. Convert a tuple of characters to a string."
   ]
  },
  {
   "cell_type": "code",
   "execution_count": 61,
   "metadata": {},
   "outputs": [
    {
     "name": "stdout",
     "output_type": "stream",
     "text": [
      "after converting tuple into string is pw skills\n"
     ]
    }
   ],
   "source": [
    "t =('p', 'w', ' ', 's', 'k', 'i', 'l', 'l', 's')\n",
    "def convert_tuple_to_str():\n",
    "    l = list(t)\n",
    "    return ''.join(l)\n",
    "print('after converting tuple into string is' ,convert_tuple_to_str())\n"
   ]
  },
  {
   "cell_type": "markdown",
   "metadata": {},
   "source": [
    "25. Create a tuple from multiple data types.\n"
   ]
  },
  {
   "cell_type": "code",
   "execution_count": 64,
   "metadata": {},
   "outputs": [
    {
     "name": "stdout",
     "output_type": "stream",
     "text": [
      "tuple from multiple datatype is (1, 2.5, 'Hello', [3, 4, 5], {'a': 1, 'b': 2}, (6, 7))\n"
     ]
    }
   ],
   "source": [
    "mixed_tuple = (1, 2.5, 'Hello', [3, 4, 5], {'a': 1, 'b': 2}, (6, 7))\n",
    "def create_tuple_from_multiple_Datatypes():\n",
    "    return mixed_tuple\n",
    "print('tuple from multiple datatype is' ,create_tuple_from_multiple_Datatypes())"
   ]
  },
  {
   "cell_type": "markdown",
   "metadata": {},
   "source": [
    "26. Check if two tuples are identical.\n"
   ]
  },
  {
   "cell_type": "code",
   "execution_count": 65,
   "metadata": {},
   "outputs": [
    {
     "name": "stdout",
     "output_type": "stream",
     "text": [
      "True\n"
     ]
    }
   ],
   "source": [
    "t1 = (1,2,3)\n",
    "t2 = (1,2,3)\n",
    "def are_tuples_identical():\n",
    "    return t1 == t2\n",
    "print(are_tuples_identical())"
   ]
  },
  {
   "cell_type": "markdown",
   "metadata": {},
   "source": [
    "27. Sort the elements of a tuple.\n"
   ]
  },
  {
   "cell_type": "code",
   "execution_count": 69,
   "metadata": {},
   "outputs": [
    {
     "name": "stdout",
     "output_type": "stream",
     "text": [
      "after sorting the element in tuple is (1, 2, 2, 3, 4, 5, 6, 32, 34)\n"
     ]
    }
   ],
   "source": [
    "t = (1, 2,3,4,5,34,2,6,32)\n",
    "def sort_elements_of_tuple():\n",
    "    return tuple(sorted(t))\n",
    "print('after sorting the element in tuple is' , sort_elements_of_tuple()) "
   ]
  },
  {
   "cell_type": "markdown",
   "metadata": {},
   "source": [
    "28. Convert a tuple of integers to a tuple of strings.\n"
   ]
  },
  {
   "cell_type": "code",
   "execution_count": 75,
   "metadata": {},
   "outputs": [
    {
     "name": "stdout",
     "output_type": "stream",
     "text": [
      "after converting tuple of integers into tuple of strings is  ('1', '2', '2', '3', '4', '5', '6', '32', '34')\n"
     ]
    }
   ],
   "source": [
    "t = (1, 2, 2, 3, 4, 5, 6, 32, 34)\n",
    "def convert_int_tuple_to_str_tuple():\n",
    "    lst = []\n",
    "    for i in t:\n",
    "        if type(i)== int:\n",
    "            i = str(i)\n",
    "            lst.append(i)\n",
    "            \n",
    "    return tuple(lst)\n",
    "print('after converting tuple of integers into tuple of strings is ', convert_int_tuple_to_str_tuple())\n"
   ]
  },
  {
   "cell_type": "markdown",
   "metadata": {},
   "source": [
    "29. Convert a tuple of strings to a tuple of integers.\n"
   ]
  },
  {
   "cell_type": "code",
   "execution_count": 74,
   "metadata": {},
   "outputs": [
    {
     "name": "stdout",
     "output_type": "stream",
     "text": [
      "after converting tuple of strings to a tuple of integers is (1, 2, 2, 3, 4, 5, 6, 32, 34)\n"
     ]
    }
   ],
   "source": [
    "t = ('1', '2', '2', '3', '4', '5', '6', '32', '34')\n",
    "def covert_str_tuple_to_int_tuple():\n",
    "    lst = []\n",
    "    for i in t:\n",
    "        if type(i) == str:\n",
    "            i = int(i)\n",
    "            lst.append(i)\n",
    "    return tuple(lst)\n",
    "print('after converting tuple of strings to a tuple of integers is', covert_str_tuple_to_int_tuple())"
   ]
  },
  {
   "cell_type": "markdown",
   "metadata": {},
   "source": [
    "30. Merge two tuples.\n"
   ]
  },
  {
   "cell_type": "code",
   "execution_count": 77,
   "metadata": {},
   "outputs": [
    {
     "name": "stdout",
     "output_type": "stream",
     "text": [
      "after merging two tuple is  (1, 2, 3, 4, 5, 6)\n"
     ]
    }
   ],
   "source": [
    "t1 = (1,2,3)\n",
    "t2 = (4,5,6)\n",
    "def merge_two_tuple():\n",
    "    return t1+t2\n",
    "print('after merging two tuple is ', merge_two_tuple())"
   ]
  },
  {
   "cell_type": "markdown",
   "metadata": {},
   "source": [
    "31. Flatten a nested tuple."
   ]
  },
  {
   "cell_type": "code",
   "execution_count": 78,
   "metadata": {},
   "outputs": [
    {
     "name": "stdout",
     "output_type": "stream",
     "text": [
      "flatten a nested tuple is (1, 2, 3, 'a', 'b', 'c', True, False)\n"
     ]
    }
   ],
   "source": [
    "t = ((1,2,3),('a','b','c'),(True,False))\n",
    "def flatten_nested_tuple():\n",
    "    lst = []\n",
    "    for i in t:\n",
    "       if type(i)==tuple:\n",
    "          i = list(i)\n",
    "          lst.extend(i)\n",
    "    return(tuple(lst))\n",
    "print('flatten a nested tuple is', flatten_nested_tuple())"
   ]
  },
  {
   "cell_type": "markdown",
   "metadata": {},
   "source": [
    "32. Create a tuple of the first 5 prime numbers"
   ]
  },
  {
   "cell_type": "code",
   "execution_count": 87,
   "metadata": {},
   "outputs": [
    {
     "name": "stdout",
     "output_type": "stream",
     "text": [
      "tuple of first 5 prime number is: (2, 3, 5, 7, 11)\n"
     ]
    }
   ],
   "source": [
    "def tuple_of_first_5_prime_number():\n",
    "    lst = []\n",
    "    for i in range(2,12):\n",
    "        is_prime = True\n",
    "        for j in range(2,i):\n",
    "            if i%j == 0:\n",
    "                is_prime = False\n",
    "                break\n",
    "        if is_prime:\n",
    "            lst.append(i)\n",
    "    return tuple(lst)\n",
    "print('tuple of first 5 prime number is:', tuple_of_first_5_prime_number())"
   ]
  },
  {
   "cell_type": "markdown",
   "metadata": {},
   "source": [
    "33. Check if a tuple is a palindrome.\n"
   ]
  },
  {
   "cell_type": "code",
   "execution_count": 90,
   "metadata": {},
   "outputs": [
    {
     "name": "stdout",
     "output_type": "stream",
     "text": [
      "True\n"
     ]
    }
   ],
   "source": [
    "t = (1,2,1)\n",
    "def is_tuple_palindrome():\n",
    "    return t == t[::-1]\n",
    "print(is_tuple_palindrome())"
   ]
  },
  {
   "cell_type": "markdown",
   "metadata": {},
   "source": [
    "34. Create a tuple of squares of numbers from 1 to 5."
   ]
  },
  {
   "cell_type": "code",
   "execution_count": 91,
   "metadata": {},
   "outputs": [
    {
     "name": "stdout",
     "output_type": "stream",
     "text": [
      "a tuple of squares of numbers from 1 to 5 is  (1, 4, 9, 16, 25)\n"
     ]
    }
   ],
   "source": [
    "def tuple_of_squares_of_numbers():\n",
    "    lst =[]\n",
    "    for i in range(1,6):\n",
    "        lst.append(i**2)\n",
    "    return tuple(lst)\n",
    "print('a tuple of squares of numbers from 1 to 5 is ', tuple_of_squares_of_numbers())"
   ]
  },
  {
   "cell_type": "markdown",
   "metadata": {},
   "source": [
    "35. Filter out all even numbers from a tuple."
   ]
  },
  {
   "cell_type": "code",
   "execution_count": 92,
   "metadata": {},
   "outputs": [
    {
     "name": "stdout",
     "output_type": "stream",
     "text": [
      "after filtering out all even number from tuple is: (1, 3, 5, 7, 9)\n"
     ]
    }
   ],
   "source": [
    "def filter_out_even_number_from_tuple():\n",
    "    lst = []\n",
    "    for i in tuple(range(1,10)):\n",
    "        if i%2!=0:\n",
    "            lst.append(i)\n",
    "    return tuple(lst)\n",
    "print('after filtering out all even number from tuple is:',filter_out_even_number_from_tuple())\n"
   ]
  },
  {
   "cell_type": "markdown",
   "metadata": {},
   "source": [
    "36. Multiply all elements in a tuple by 2."
   ]
  },
  {
   "cell_type": "code",
   "execution_count": 93,
   "metadata": {},
   "outputs": [
    {
     "name": "stdout",
     "output_type": "stream",
     "text": [
      "after multilying all elements in a tuple by 2 is: (2, 4, 6, 8, 10)\n"
     ]
    }
   ],
   "source": [
    "t = (1,2,3,4,5)\n",
    "def multiply_tuple_element():\n",
    "    lst = []\n",
    "    for i in t:\n",
    "        lst.append(i*2)\n",
    "    return tuple(lst)\n",
    "print('after multilying all elements in a tuple by 2 is:', multiply_tuple_element())"
   ]
  },
  {
   "cell_type": "markdown",
   "metadata": {},
   "source": [
    "37. Create a tuple of random numbers.\n"
   ]
  },
  {
   "cell_type": "code",
   "execution_count": 103,
   "metadata": {},
   "outputs": [
    {
     "name": "stdout",
     "output_type": "stream",
     "text": [
      "tuple of random numbers is (6, 49, 50, 63, 88, 25, 53, 84, 37, 63)\n"
     ]
    }
   ],
   "source": [
    "import random\n",
    "def tuple_of_random_numbers(num_elements):\n",
    "    random_numbers = tuple(random.randint(0,100)for _ in range(num_elements))\n",
    "    return random_numbers\n",
    "num_elements = eval(input('enter the number'))\n",
    "print('tuple of random numbers is', tuple_of_random_numbers(num_elements))\n"
   ]
  },
  {
   "cell_type": "markdown",
   "metadata": {},
   "source": [
    "38. Check if a tuple is sorted.\n"
   ]
  },
  {
   "cell_type": "code",
   "execution_count": 108,
   "metadata": {},
   "outputs": [
    {
     "name": "stdout",
     "output_type": "stream",
     "text": [
      "True\n"
     ]
    }
   ],
   "source": [
    "t1 = (1,2,3,4)\n",
    "def is_tuple_sorted():\n",
    "    return t1 == tuple(sorted(t1))\n",
    "       \n",
    "print(is_tuple_sorted())"
   ]
  },
  {
   "cell_type": "markdown",
   "metadata": {},
   "source": [
    "39. Rotate a tuple to the left by `n` positions.\n"
   ]
  },
  {
   "cell_type": "code",
   "execution_count": 117,
   "metadata": {},
   "outputs": [
    {
     "name": "stdout",
     "output_type": "stream",
     "text": [
      "(5, 6, 1, 2, 3, 4)\n"
     ]
    }
   ],
   "source": [
    "t = (1,2,3,4,5,6)\n",
    "def rotate_a_tuple_to_the_left(t,n):\n",
    "    n = n%len(t)\n",
    "    rotated_tuple = t[-n:]+t[:-n]\n",
    "    return rotated_tuple\n",
    "n = eval(input('enter the num'))\n",
    "print(rotate_a_tuple_to_the_left(t,n))\n"
   ]
  },
  {
   "cell_type": "markdown",
   "metadata": {},
   "source": [
    "40. Rotate a tuple to the right by `n` positions.\n"
   ]
  },
  {
   "cell_type": "code",
   "execution_count": 118,
   "metadata": {},
   "outputs": [
    {
     "name": "stdout",
     "output_type": "stream",
     "text": [
      "(3, 4, 5, 6, 1, 2)\n"
     ]
    }
   ],
   "source": [
    "t = (1,2,3,4,5,6)\n",
    "def rotate_a_tuple_to_the_right(t,n):\n",
    "    n = n % len(t)\n",
    "    rotated_tuples =t[n:]+t[:n]\n",
    "    return rotated_tuples\n",
    "n = 2\n",
    "print(rotate_a_tuple_to_the_right(t,n))"
   ]
  },
  {
   "cell_type": "markdown",
   "metadata": {},
   "source": [
    "41. Create a tuple of the first 5 Fibonacci numbers.\n"
   ]
  },
  {
   "cell_type": "code",
   "execution_count": 120,
   "metadata": {},
   "outputs": [
    {
     "name": "stdout",
     "output_type": "stream",
     "text": [
      "tuple of the first 5 fibonacci numbers is (1, 1, 2, 3, 5)\n"
     ]
    }
   ],
   "source": [
    "def tuple_of_fibonacci_numbers():\n",
    "    num = 5\n",
    "    n1, n2 = 1, 1  \n",
    "    fibonacci_sequence = [n1, n2]  \n",
    "\n",
    "    for _ in range(2, num):\n",
    "      n3 = n1 + n2\n",
    "      fibonacci_sequence.append(n3) \n",
    "      n1, n2 = n2, n3\n",
    "    return tuple(fibonacci_sequence)\n",
    "\n",
    "\n",
    "print(\"tuple of the first 5 fibonacci numbers is\", tuple_of_fibonacci_numbers())"
   ]
  },
  {
   "cell_type": "markdown",
   "metadata": {},
   "source": [
    "42. Create a tuple from user input"
   ]
  },
  {
   "cell_type": "code",
   "execution_count": 121,
   "metadata": {},
   "outputs": [
    {
     "name": "stdout",
     "output_type": "stream",
     "text": [
      "(1, 2, 3, 4, 'saurav')\n"
     ]
    }
   ],
   "source": [
    "t = eval(input('enter tuple: '))\n",
    "print(t)"
   ]
  },
  {
   "cell_type": "markdown",
   "metadata": {},
   "source": [
    "43. Swap two elements in a tuple.\n"
   ]
  },
  {
   "cell_type": "code",
   "execution_count": 124,
   "metadata": {},
   "outputs": [
    {
     "name": "stdout",
     "output_type": "stream",
     "text": [
      "(2, 1, 3, 4, 'saurav')\n"
     ]
    }
   ],
   "source": [
    "t = (1, 2, 3, 4, 'saurav')\n",
    "t = (t[1],t[0],t[2],t[3],t[4])\n",
    "print(t)"
   ]
  },
  {
   "cell_type": "code",
   "execution_count": 126,
   "metadata": {},
   "outputs": [
    {
     "name": "stdout",
     "output_type": "stream",
     "text": [
      "(2, 1, 3, 4, 'saurav')\n"
     ]
    }
   ],
   "source": [
    "t = (1,2,3,4,\"saurav\")\n",
    "i,j = 0,1\n",
    "t_list = list(t)\n",
    "for k in range(len(t_list)):\n",
    "    if k == i:\n",
    "        t_list[k] = t[j]\n",
    "    elif k == j:\n",
    "        t_list[j] = t[i]\n",
    "print(tuple(t_list))"
   ]
  },
  {
   "cell_type": "markdown",
   "metadata": {},
   "source": [
    "44. Reverse the elements of a tuple.\n"
   ]
  },
  {
   "cell_type": "code",
   "execution_count": 129,
   "metadata": {},
   "outputs": [
    {
     "name": "stdout",
     "output_type": "stream",
     "text": [
      "after reversing the element of tuple is:  ('saurav', 4, 3, 2, 1)\n"
     ]
    }
   ],
   "source": [
    "t = (1,2,3,4,\"saurav\")\n",
    "def reverse_the_tple_element():\n",
    "    t1 = t[::-1]\n",
    "    return t1\n",
    "print('after reversing the element of tuple is: ', reverse_the_tple_element())"
   ]
  },
  {
   "cell_type": "code",
   "execution_count": 133,
   "metadata": {},
   "outputs": [
    {
     "name": "stdout",
     "output_type": "stream",
     "text": [
      "('saurav', 4, 3, 2, 1)\n"
     ]
    }
   ],
   "source": [
    "t = (1,2,3,4,\"saurav\")\n",
    "lst = list(t)\n",
    "reverse_lst = []\n",
    "for i in range(len(lst)-1,-1,-1):\n",
    "    reverse_lst.append(lst[i])\n",
    "print(tuple(reverse_lst))"
   ]
  },
  {
   "cell_type": "markdown",
   "metadata": {},
   "source": [
    "45. Create a tuple of the first `n` powers of 2."
   ]
  },
  {
   "cell_type": "code",
   "execution_count": 135,
   "metadata": {},
   "outputs": [
    {
     "name": "stdout",
     "output_type": "stream",
     "text": [
      "(1, 2, 4, 8, 16)\n"
     ]
    }
   ],
   "source": [
    "n = int(input('enter the num: '))\n",
    "lst = []\n",
    "for i in range(0,n):\n",
    "    lst.append(2**i)\n",
    "print(tuple(lst))"
   ]
  },
  {
   "cell_type": "markdown",
   "metadata": {},
   "source": [
    "46. Find the longest string in a tuple of strings.\n"
   ]
  },
  {
   "cell_type": "code",
   "execution_count": 142,
   "metadata": {},
   "outputs": [
    {
     "name": "stdout",
     "output_type": "stream",
     "text": [
      "Krishna is longest word in a tuple of string\n"
     ]
    }
   ],
   "source": [
    "t = ('Krishna','name','is','saurav','kumar')\n",
    "longest_Word = ''\n",
    "for i in t:\n",
    "    if len(i)> len(longest_Word):\n",
    "        longest_Word = i\n",
    "\n",
    "print(longest_Word, \"is longest word in a tuple of string\")"
   ]
  },
  {
   "cell_type": "markdown",
   "metadata": {},
   "source": [
    "47. Find the shortest string in a tuple of strings."
   ]
  },
  {
   "cell_type": "code",
   "execution_count": 143,
   "metadata": {},
   "outputs": [
    {
     "name": "stdout",
     "output_type": "stream",
     "text": [
      "is is shortest string word\n"
     ]
    }
   ],
   "source": [
    "t = ('Krishna','name','is','saurav','kumar')\n",
    "shortest_str_word = t[0]\n",
    "for i in t:\n",
    "    if len(i)<len(shortest_str_word):\n",
    "        shortest_str_word = i\n",
    "print(shortest_str_word, 'is shortest string word')"
   ]
  },
  {
   "cell_type": "markdown",
   "metadata": {},
   "source": [
    "48. Create a tuple of the first `n` triangular numbers.\n"
   ]
  },
  {
   "cell_type": "code",
   "execution_count": 145,
   "metadata": {},
   "outputs": [
    {
     "name": "stdout",
     "output_type": "stream",
     "text": [
      "(1, 3, 6, 10, 15) is a tuple of first n triangular numbers\n"
     ]
    }
   ],
   "source": [
    "n = eval(input('enter the num'))\n",
    "lst = []\n",
    "for num in range(1,n+1):\n",
    "    T_n = num*(num+1)//2\n",
    "    lst.append(T_n)\n",
    "print(tuple(lst), 'is a tuple of first n triangular numbers')\n",
    "    "
   ]
  },
  {
   "cell_type": "markdown",
   "metadata": {},
   "source": [
    "49. Check if a tuple contains another tuple as a subsequence.\n"
   ]
  },
  {
   "cell_type": "code",
   "execution_count": 154,
   "metadata": {},
   "outputs": [
    {
     "name": "stdout",
     "output_type": "stream",
     "text": [
      "True\n"
     ]
    }
   ],
   "source": [
    "t = (1,2,3,4,5,6,7,8,9,10)\n",
    "t1 = (1,4,8,10)\n",
    "def does_tuple_contains_subsequence_tuple(t,t1):\n",
    "    i,j=0,0\n",
    "    for i in range(len(t)):\n",
    "        if j< len(t1) and t[i]==t1[j]:\n",
    "            j+=1\n",
    "            if j == len(t1):\n",
    "                return True\n",
    "    return False\n",
    "print(does_tuple_contains_subsequence_tuple(t,t1))\n"
   ]
  },
  {
   "cell_type": "markdown",
   "metadata": {},
   "source": [
    "50. Create a tuple of alternating 1s and 0s of length `n`."
   ]
  },
  {
   "cell_type": "code",
   "execution_count": 160,
   "metadata": {},
   "outputs": [
    {
     "name": "stdout",
     "output_type": "stream",
     "text": [
      "(1, 0, 1, 0, 1, 0, 1, 0, 1, 0)\n"
     ]
    }
   ],
   "source": [
    "def alternating_tuple(n):\n",
    "    lst = []\n",
    "    for i in range(n):\n",
    "        if i%2==0:\n",
    "            lst.append(1)\n",
    "        else:\n",
    "            lst.append(0)\n",
    "    return tuple(lst) \n",
    "n = int(input('enter the num: '))\n",
    "print(alternating_tuple(n))"
   ]
  },
  {
   "cell_type": "markdown",
   "metadata": {},
   "source": [
    "Set Based Practice Problem :"
   ]
  },
  {
   "cell_type": "markdown",
   "metadata": {},
   "source": [
    "1. Create a set with integers from 1 to 5."
   ]
  },
  {
   "cell_type": "code",
   "execution_count": 162,
   "metadata": {},
   "outputs": [
    {
     "name": "stdout",
     "output_type": "stream",
     "text": [
      "{1, 2, 3, 4, 5}\n"
     ]
    }
   ],
   "source": [
    "s = eval(input(\"enter set\"))\n",
    "print(set(s))"
   ]
  },
  {
   "cell_type": "markdown",
   "metadata": {},
   "source": [
    "2. Add an element to a set.\n"
   ]
  },
  {
   "cell_type": "code",
   "execution_count": 163,
   "metadata": {},
   "outputs": [
    {
     "name": "stdout",
     "output_type": "stream",
     "text": [
      "{1, 2, 3, 4, 5, 'krishna'}\n"
     ]
    }
   ],
   "source": [
    "s = {1, 2, 3, 4, 5}\n",
    "s.add('krishna')\n",
    "print(s)"
   ]
  },
  {
   "cell_type": "markdown",
   "metadata": {},
   "source": [
    "3. Remove an element from a set.\n"
   ]
  },
  {
   "cell_type": "code",
   "execution_count": 164,
   "metadata": {},
   "outputs": [
    {
     "name": "stdout",
     "output_type": "stream",
     "text": [
      "{1, 2, 4, 5, 'krishna'}\n"
     ]
    }
   ],
   "source": [
    "s = {1, 2, 3, 4, 5, 'krishna'}\n",
    "s.remove(3)\n",
    "print(s)"
   ]
  },
  {
   "cell_type": "markdown",
   "metadata": {},
   "source": [
    "4. Check if an element exists in a set.\n"
   ]
  },
  {
   "cell_type": "code",
   "execution_count": 170,
   "metadata": {},
   "outputs": [
    {
     "name": "stdout",
     "output_type": "stream",
     "text": [
      "True\n"
     ]
    }
   ],
   "source": [
    "s = {1,2,3,4,'krishna'}\n",
    "def does_element_exist_in_set():\n",
    "    return input_element in s\n",
    "input_element = eval(input('enter the element to check for existence:'))\n",
    "print(does_element_exist_in_set())"
   ]
  },
  {
   "cell_type": "markdown",
   "metadata": {},
   "source": [
    "5. Find the length of a set without using the `len()` function.\n"
   ]
  },
  {
   "cell_type": "code",
   "execution_count": 171,
   "metadata": {},
   "outputs": [
    {
     "name": "stdout",
     "output_type": "stream",
     "text": [
      "5\n"
     ]
    }
   ],
   "source": [
    "s = {1,2,3,4,'krishna'}\n",
    "def length_of_set():\n",
    "    set_length = 0\n",
    "    for i in s:\n",
    "        set_length += 1\n",
    "    return set_length\n",
    "print(length_of_set())"
   ]
  },
  {
   "cell_type": "markdown",
   "metadata": {},
   "source": [
    "6. Clear all elements from a set.\n"
   ]
  },
  {
   "cell_type": "code",
   "execution_count": 172,
   "metadata": {},
   "outputs": [
    {
     "name": "stdout",
     "output_type": "stream",
     "text": [
      "set()\n"
     ]
    }
   ],
   "source": [
    "s = {1,2,3,4,'krishna'}\n",
    "s.clear()\n",
    "print(s)"
   ]
  },
  {
   "cell_type": "markdown",
   "metadata": {},
   "source": [
    "7. Create a set of even numbers from 1 to 10."
   ]
  },
  {
   "cell_type": "code",
   "execution_count": 173,
   "metadata": {},
   "outputs": [
    {
     "name": "stdout",
     "output_type": "stream",
     "text": [
      "{2, 4, 6, 8, 10}\n"
     ]
    }
   ],
   "source": [
    "def set_of_even_number():\n",
    "    s = set()\n",
    "    for num in range(2,11):\n",
    "        if num%2 == 0:\n",
    "            s.add(num)\n",
    "    return s"
   ]
  },
  {
   "cell_type": "markdown",
   "metadata": {},
   "source": [
    "8. Create a set of odd numbers from 1 to 10."
   ]
  },
  {
   "cell_type": "code",
   "execution_count": 174,
   "metadata": {},
   "outputs": [
    {
     "name": "stdout",
     "output_type": "stream",
     "text": [
      "{1, 3, 5, 7, 9}\n"
     ]
    }
   ],
   "source": [
    "def set_of_odd_numbers():\n",
    "    s = set()\n",
    "    for num in range(1,10):\n",
    "        if num%2 != 0:\n",
    "            s.add(num)\n",
    "    return s\n",
    "print(set_of_odd_numbers())"
   ]
  },
  {
   "cell_type": "markdown",
   "metadata": {},
   "source": [
    "9. Find the union of two sets.\n"
   ]
  },
  {
   "cell_type": "code",
   "execution_count": 176,
   "metadata": {},
   "outputs": [
    {
     "name": "stdout",
     "output_type": "stream",
     "text": [
      "{1, 2, 3, 4, 5, 6, 7, 8}\n"
     ]
    }
   ],
   "source": [
    "s1 = {1,2,3,4}\n",
    "s2 = {5,6,7,8}\n",
    "def union_of_two_sets():\n",
    "    return s1|s2\n",
    "print(union_of_two_sets())"
   ]
  },
  {
   "cell_type": "markdown",
   "metadata": {},
   "source": [
    "10. Find the intersection of two sets.\n"
   ]
  },
  {
   "cell_type": "code",
   "execution_count": 177,
   "metadata": {},
   "outputs": [
    {
     "name": "stdout",
     "output_type": "stream",
     "text": [
      "{5, 6}\n"
     ]
    }
   ],
   "source": [
    "s1 = {1,2,3,4,5,6}\n",
    "s2 = {5,6,7,8}\n",
    "print(s1.intersection(s2))"
   ]
  },
  {
   "cell_type": "markdown",
   "metadata": {},
   "source": [
    "11. Find the difference between two sets.\n"
   ]
  },
  {
   "cell_type": "code",
   "execution_count": 178,
   "metadata": {},
   "outputs": [
    {
     "name": "stdout",
     "output_type": "stream",
     "text": [
      "{1, 2, 3, 4}\n"
     ]
    }
   ],
   "source": [
    "s1 = {1,2,3,4,5,6}\n",
    "s2 = {5,6,7,8}\n",
    "print(s1.difference(s2))"
   ]
  },
  {
   "cell_type": "markdown",
   "metadata": {},
   "source": [
    "12. Check if a set is a subset of another set."
   ]
  },
  {
   "cell_type": "code",
   "execution_count": 180,
   "metadata": {},
   "outputs": [
    {
     "name": "stdout",
     "output_type": "stream",
     "text": [
      "True\n"
     ]
    }
   ],
   "source": [
    "s1 = {1,2,3,4,5,6}\n",
    "s2 = {5,6}\n",
    "print(s2.issubset(s1))"
   ]
  },
  {
   "cell_type": "markdown",
   "metadata": {},
   "source": [
    "13. Check if a set is a superset of another set"
   ]
  },
  {
   "cell_type": "code",
   "execution_count": 183,
   "metadata": {},
   "outputs": [
    {
     "name": "stdout",
     "output_type": "stream",
     "text": [
      "True\n"
     ]
    }
   ],
   "source": [
    "s1 = {1,2,3,4,5,6}\n",
    "s2 = {5,6}\n",
    "print(s1.issuperset(s2))"
   ]
  },
  {
   "cell_type": "markdown",
   "metadata": {},
   "source": [
    "14. Create a set from a list.\n"
   ]
  },
  {
   "cell_type": "code",
   "execution_count": 185,
   "metadata": {},
   "outputs": [
    {
     "name": "stdout",
     "output_type": "stream",
     "text": [
      "{1, 2, 3, 4, 5}\n"
     ]
    }
   ],
   "source": [
    "lst = [1,2,3,4,5]\n",
    "s = set()\n",
    "for i in lst:\n",
    "    s.add(i)\n",
    "print(s)"
   ]
  },
  {
   "cell_type": "markdown",
   "metadata": {},
   "source": [
    "15. Convert a set to a list."
   ]
  },
  {
   "cell_type": "code",
   "execution_count": 186,
   "metadata": {},
   "outputs": [
    {
     "name": "stdout",
     "output_type": "stream",
     "text": [
      "[1, 2, 3, 4, 5]\n"
     ]
    }
   ],
   "source": [
    "s = {1, 2, 3, 4, 5}\n",
    "print(list(s))"
   ]
  },
  {
   "cell_type": "markdown",
   "metadata": {},
   "source": [
    "16. Remove a random element from a set"
   ]
  },
  {
   "cell_type": "code",
   "execution_count": 190,
   "metadata": {},
   "outputs": [
    {
     "name": "stdout",
     "output_type": "stream",
     "text": [
      "Original set: {1, 2, 3, 4, 5}\n",
      "Updated set after removing 5 : {1, 2, 3, 4}\n"
     ]
    }
   ],
   "source": [
    "import random \n",
    "\n",
    "my_set = {1, 2, 3, 4, 5}\n",
    "print(\"Original set:\", my_set)\n",
    "random_element = random.choice(list(my_set))\n",
    "my_set.remove(random_element)\n",
    "print(\"Updated set after removing\", random_element, \":\", my_set)"
   ]
  },
  {
   "cell_type": "markdown",
   "metadata": {},
   "source": [
    "17. Pop an element from a set.\n"
   ]
  },
  {
   "cell_type": "code",
   "execution_count": 189,
   "metadata": {},
   "outputs": [
    {
     "data": {
      "text/plain": [
       "1"
      ]
     },
     "execution_count": 189,
     "metadata": {},
     "output_type": "execute_result"
    }
   ],
   "source": [
    "s ={1,2,3,4,5,6,7,8,9,10}\n",
    "s.pop()"
   ]
  },
  {
   "cell_type": "markdown",
   "metadata": {},
   "source": [
    "18. Check if two sets have no elements in common.\n"
   ]
  },
  {
   "cell_type": "code",
   "execution_count": 193,
   "metadata": {},
   "outputs": [
    {
     "name": "stdout",
     "output_type": "stream",
     "text": [
      "False\n"
     ]
    }
   ],
   "source": [
    "s1 = {1,2,3,4,5}\n",
    "s2 = {6,7,8,9,}\n",
    "print(s1.isdisjoint(s2))"
   ]
  },
  {
   "cell_type": "markdown",
   "metadata": {},
   "source": [
    "19. Find the symmetric difference between two sets.\n"
   ]
  },
  {
   "cell_type": "code",
   "execution_count": 194,
   "metadata": {},
   "outputs": [
    {
     "name": "stdout",
     "output_type": "stream",
     "text": [
      "{1, 2, 3, 4, 5, 6, 7, 8, 9}\n"
     ]
    }
   ],
   "source": [
    "s1 = {1,2,3,4,5}\n",
    "s2 = {6,7,8,9}\n",
    "print(s1.symmetric_difference(s2))"
   ]
  },
  {
   "cell_type": "markdown",
   "metadata": {},
   "source": [
    "20. Update a set with elements from another set."
   ]
  },
  {
   "cell_type": "code",
   "execution_count": 204,
   "metadata": {},
   "outputs": [
    {
     "name": "stdout",
     "output_type": "stream",
     "text": [
      "updated_set {1, 2, 3, 4, 5}\n"
     ]
    }
   ],
   "source": [
    "s1 = {1,2,3}\n",
    "s2 = {3,4,5}\n",
    "uodate_set = s1.update(s2)\n",
    "print('updated_set',s1)"
   ]
  },
  {
   "cell_type": "markdown",
   "metadata": {},
   "source": [
    "21. Create a set of the first 5 prime numbers."
   ]
  },
  {
   "cell_type": "code",
   "execution_count": 209,
   "metadata": {},
   "outputs": [
    {
     "name": "stdout",
     "output_type": "stream",
     "text": [
      "{2, 3, 5, 7, 11}\n"
     ]
    }
   ],
   "source": [
    "prime_set = set()\n",
    "def first_5_prime_no():\n",
    "    for i in range(2,n):\n",
    "        is_prime = True\n",
    "        for j in range(2,i):\n",
    "            if i%j==0:\n",
    "                is_prime = False\n",
    "                break\n",
    "        if is_prime:\n",
    "            prime_set.add(i)\n",
    "    return prime_set\n",
    "n = int(input('enter the num:'))\n",
    "print(first_5_prime_no())     "
   ]
  },
  {
   "cell_type": "markdown",
   "metadata": {},
   "source": [
    "22. Check if two sets are identical."
   ]
  },
  {
   "cell_type": "code",
   "execution_count": 8,
   "metadata": {},
   "outputs": [
    {
     "name": "stdout",
     "output_type": "stream",
     "text": [
      "True\n"
     ]
    }
   ],
   "source": [
    "s1 = {1,2,3}\n",
    "s2 = {1,2,3}\n",
    "print(s1==s2)\n"
   ]
  },
  {
   "cell_type": "markdown",
   "metadata": {},
   "source": [
    "23. Create a frozen set.\n"
   ]
  },
  {
   "cell_type": "code",
   "execution_count": 10,
   "metadata": {},
   "outputs": [
    {
     "name": "stdout",
     "output_type": "stream",
     "text": [
      "frozen set is:  frozenset({6, 7, 8, 9, 10})\n"
     ]
    }
   ],
   "source": [
    "frozen_set = frozenset({6, 7, 8, 9, 10})\n",
    "print('frozen set is: ',frozen_set) "
   ]
  },
  {
   "cell_type": "markdown",
   "metadata": {},
   "source": [
    "24. Check if a set is disjoint with another set.\n"
   ]
  },
  {
   "cell_type": "code",
   "execution_count": 13,
   "metadata": {},
   "outputs": [
    {
     "name": "stdout",
     "output_type": "stream",
     "text": [
      "True\n"
     ]
    }
   ],
   "source": [
    "s1 = {1,2,3}\n",
    "s2 = {4,5,6}\n",
    "print(s1.isdisjoint(s2))"
   ]
  },
  {
   "cell_type": "markdown",
   "metadata": {},
   "source": [
    "25. Create a set of squares of numbers from 1 to 5.\n"
   ]
  },
  {
   "cell_type": "code",
   "execution_count": 14,
   "metadata": {},
   "outputs": [
    {
     "name": "stdout",
     "output_type": "stream",
     "text": [
      "{1, 4, 9, 16, 25}\n"
     ]
    }
   ],
   "source": [
    "s = set()\n",
    "for i in range(1,6):\n",
    "    s.add(i**2)\n",
    "print(s)"
   ]
  },
  {
   "cell_type": "markdown",
   "metadata": {},
   "source": [
    "26. Filter out all even numbers from a set.\n"
   ]
  },
  {
   "cell_type": "code",
   "execution_count": 16,
   "metadata": {},
   "outputs": [
    {
     "name": "stdout",
     "output_type": "stream",
     "text": [
      "1\n",
      "3\n",
      "5\n",
      "7\n",
      "9\n"
     ]
    }
   ],
   "source": [
    "s = {1,2,3,4,5,6,7,8,9,10}\n",
    "for i in s:\n",
    "    if i%2==0:\n",
    "        continue\n",
    "    print(i)\n"
   ]
  },
  {
   "cell_type": "markdown",
   "metadata": {},
   "source": [
    "27. Multiply all elements in a set by 2.\n"
   ]
  },
  {
   "cell_type": "code",
   "execution_count": 23,
   "metadata": {},
   "outputs": [
    {
     "name": "stdout",
     "output_type": "stream",
     "text": [
      "{2, 4, 6, 8, 10}\n"
     ]
    }
   ],
   "source": [
    "s ={1,2,3,4,5}\n",
    "multiplied_set =set()\n",
    "for i in s:\n",
    "    multiplied_set.add(2*i)\n",
    "print(multiplied_set)"
   ]
  },
  {
   "cell_type": "markdown",
   "metadata": {},
   "source": [
    "28. Create a set of random numbers.\n"
   ]
  },
  {
   "cell_type": "code",
   "execution_count": 28,
   "metadata": {},
   "outputs": [
    {
     "name": "stdout",
     "output_type": "stream",
     "text": [
      "a set of random number is {66, 36, 40, 10, 15, 49, 22, 91, 63}\n"
     ]
    }
   ],
   "source": [
    "import random\n",
    "random_set = set()\n",
    "for i in range(10):\n",
    "    random_set.add(random.randint(1,100))\n",
    "print('a set of random number is', random_set)"
   ]
  },
  {
   "cell_type": "markdown",
   "metadata": {},
   "source": [
    "29. Check if a set is empty.\n"
   ]
  },
  {
   "cell_type": "code",
   "execution_count": 31,
   "metadata": {},
   "outputs": [
    {
     "name": "stdout",
     "output_type": "stream",
     "text": [
      "set is empty\n"
     ]
    }
   ],
   "source": [
    "s = set()\n",
    "if not s:\n",
    "     print('set is empty')\n",
    "else:\n",
    "     print('set is not empty')"
   ]
  },
  {
   "cell_type": "markdown",
   "metadata": {},
   "source": [
    "30. Create a nested set (hint: use frozenset)."
   ]
  },
  {
   "cell_type": "code",
   "execution_count": 38,
   "metadata": {},
   "outputs": [
    {
     "name": "stdout",
     "output_type": "stream",
     "text": [
      "frozenset({0, 1, 2, 3, 4, 5, 6, 7, 8, 9})\n"
     ]
    }
   ],
   "source": [
    "f1 = frozenset(range(10))\n",
    "print(f1)\n",
    "               "
   ]
  },
  {
   "cell_type": "code",
   "execution_count": 42,
   "metadata": {},
   "outputs": [
    {
     "name": "stdout",
     "output_type": "stream",
     "text": [
      "{1, 2, 3, frozenset({1, 2, 3}), frozenset({4, 5, 6})}\n"
     ]
    }
   ],
   "source": [
    "s ={1,2,3}\n",
    "f1 = frozenset([1,2,3])\n",
    "f2 = frozenset([4,5,6])\n",
    "s.add(f1)\n",
    "s.add(f2)\n",
    "print(s)"
   ]
  },
  {
   "cell_type": "markdown",
   "metadata": {},
   "source": [
    "31. Remove an element from a set using the discard method."
   ]
  },
  {
   "cell_type": "code",
   "execution_count": 46,
   "metadata": {},
   "outputs": [
    {
     "name": "stdout",
     "output_type": "stream",
     "text": [
      "{1, 2, 3, frozenset({4, 5, 6})}\n"
     ]
    }
   ],
   "source": [
    "s1 = {1, 2, 3, frozenset({1, 2, 3}), frozenset({4, 5, 6})}\n",
    "s1.discard(frozenset({1,2,3}))\n",
    "print(s1)"
   ]
  },
  {
   "cell_type": "markdown",
   "metadata": {},
   "source": [
    "32. Compare two sets.\n"
   ]
  },
  {
   "cell_type": "code",
   "execution_count": 50,
   "metadata": {},
   "outputs": [
    {
     "name": "stdout",
     "output_type": "stream",
     "text": [
      "False\n",
      "True\n",
      "False\n"
     ]
    }
   ],
   "source": [
    "s1 ={1,2,3}\n",
    "s2 ={4,5,6}\n",
    "print(s1.issubset(s2))\n",
    "print(s1.isdisjoint(s2))\n",
    "print(s1.issuperset(s2))"
   ]
  },
  {
   "cell_type": "markdown",
   "metadata": {},
   "source": [
    "33. Create a set from a string"
   ]
  },
  {
   "cell_type": "code",
   "execution_count": 52,
   "metadata": {},
   "outputs": [
    {
     "name": "stdout",
     "output_type": "stream",
     "text": [
      "{'u', 'v', 'a', 'r', 's'}\n"
     ]
    }
   ],
   "source": [
    "s = 'saurav'\n",
    "z = set('saurav')\n",
    "print(z)"
   ]
  },
  {
   "cell_type": "markdown",
   "metadata": {},
   "source": [
    "34. Convert a set of strings to a set of integers"
   ]
  },
  {
   "cell_type": "code",
   "execution_count": 54,
   "metadata": {},
   "outputs": [
    {
     "name": "stdout",
     "output_type": "stream",
     "text": [
      "a set of integer is {1, 2, 3, 4}\n"
     ]
    }
   ],
   "source": [
    "str_set = {'1','2','3','4'}\n",
    "int_set = set()\n",
    "for i in str_set:\n",
    "    j = int(i)\n",
    "    int_set.add(j)\n",
    "print('a set of integer is',int_set)\n"
   ]
  },
  {
   "cell_type": "markdown",
   "metadata": {},
   "source": [
    "35. Convert a set of integers to a set of strings"
   ]
  },
  {
   "cell_type": "code",
   "execution_count": 55,
   "metadata": {},
   "outputs": [
    {
     "name": "stdout",
     "output_type": "stream",
     "text": [
      "a set of strings is {'3', '2', '1', '4'}\n"
     ]
    }
   ],
   "source": [
    "int_set = {1, 2, 3, 4}\n",
    "str_set = set()\n",
    "for i in int_set:\n",
    "    j = str(i)\n",
    "    str_set.add(j)\n",
    "print('a set of strings is',str_set)"
   ]
  },
  {
   "cell_type": "markdown",
   "metadata": {},
   "source": [
    "36. Create a set from a tuple"
   ]
  },
  {
   "cell_type": "code",
   "execution_count": 56,
   "metadata": {},
   "outputs": [
    {
     "name": "stdout",
     "output_type": "stream",
     "text": [
      "{1, 2, 3.5, 'saurav'}\n"
     ]
    }
   ],
   "source": [
    "t = (1,2,'saurav',3.5)\n",
    "s = set(t)\n",
    "print(s)"
   ]
  },
  {
   "cell_type": "markdown",
   "metadata": {},
   "source": [
    "37. Convert a set to a tuple.\n"
   ]
  },
  {
   "cell_type": "code",
   "execution_count": 57,
   "metadata": {},
   "outputs": [
    {
     "name": "stdout",
     "output_type": "stream",
     "text": [
      "(1, 2, 3.5, 'saurav')\n"
     ]
    }
   ],
   "source": [
    "s = {1, 2, 3.5, 'saurav'}\n",
    "t = tuple(s)\n",
    "print(t)"
   ]
  },
  {
   "cell_type": "markdown",
   "metadata": {},
   "source": [
    "38. Find the maximum value in a set"
   ]
  },
  {
   "cell_type": "code",
   "execution_count": 62,
   "metadata": {},
   "outputs": [
    {
     "name": "stdout",
     "output_type": "stream",
     "text": [
      "67\n"
     ]
    }
   ],
   "source": [
    "s ={1,23,4,5,67}\n",
    "def max_value_in_set(s):\n",
    "    max_value = 0\n",
    "    for i in s:\n",
    "       if i > max_value:\n",
    "           max_value = i\n",
    "    return max_value\n",
    "print(max_value_in_set(s))\n"
   ]
  },
  {
   "cell_type": "markdown",
   "metadata": {},
   "source": [
    "39. Find the minimum value in a set"
   ]
  },
  {
   "cell_type": "code",
   "execution_count": 63,
   "metadata": {},
   "outputs": [
    {
     "name": "stdout",
     "output_type": "stream",
     "text": [
      "1\n"
     ]
    }
   ],
   "source": [
    "s ={1,23,4,5,67}\n",
    "def min_value_in_set(s):\n",
    "    min_value = float('inf')\n",
    "    for i in s:\n",
    "        if i<min_value:\n",
    "            min_value = i\n",
    "    return min_value\n",
    "print(min_value_in_set(s))"
   ]
  },
  {
   "cell_type": "markdown",
   "metadata": {},
   "source": [
    "40. Create a set from user input."
   ]
  },
  {
   "cell_type": "code",
   "execution_count": 64,
   "metadata": {},
   "outputs": [
    {
     "name": "stdout",
     "output_type": "stream",
     "text": [
      "Created set: {1, 2, 3, 4, 5}\n"
     ]
    }
   ],
   "source": [
    "user_input = input(\"Enter elements separated by space: \")\n",
    "user_set = set(map(int, user_input.split()))\n",
    "\n",
    "print(\"Created set:\", user_set)"
   ]
  },
  {
   "cell_type": "markdown",
   "metadata": {},
   "source": [
    "41. Check if the intersection of two sets is empty."
   ]
  },
  {
   "cell_type": "code",
   "execution_count": 66,
   "metadata": {},
   "outputs": [
    {
     "name": "stdout",
     "output_type": "stream",
     "text": [
      "True\n"
     ]
    }
   ],
   "source": [
    "s1 ={1,2,3,4}\n",
    "s2 ={5,6,7,8}\n",
    "print(s1.intersection(s2)== set())"
   ]
  },
  {
   "cell_type": "markdown",
   "metadata": {},
   "source": [
    "42. Create a set of the first 5 Fibonacci numbers.\n"
   ]
  },
  {
   "cell_type": "code",
   "execution_count": 69,
   "metadata": {},
   "outputs": [
    {
     "name": "stdout",
     "output_type": "stream",
     "text": [
      "5 fibonacci numbers:  {1, 2, 3, 5}\n"
     ]
    }
   ],
   "source": [
    "num = 5\n",
    "n1,n2 = 1,1\n",
    "fibonacci_sequence = {n1,n2}\n",
    "for _ in range(2,num):\n",
    "    n3 = n1+n2\n",
    "    fibonacci_sequence.add(n3)\n",
    "    n1,n2 = n2,n3\n",
    "   \n",
    "print('5 fibonacci numbers: ',fibonacci_sequence)"
   ]
  },
  {
   "cell_type": "markdown",
   "metadata": {},
   "source": [
    "43. Remove duplicates from a list using sets."
   ]
  },
  {
   "cell_type": "code",
   "execution_count": 71,
   "metadata": {},
   "outputs": [
    {
     "name": "stdout",
     "output_type": "stream",
     "text": [
      "[1, 2, 3, 4, 5, 'saur']\n"
     ]
    }
   ],
   "source": [
    "l = [1,2,3,'saur',4,5,'saur']\n",
    "s = set()\n",
    "for i in l:\n",
    "    s.add(i)\n",
    "print(list(s))"
   ]
  },
  {
   "cell_type": "markdown",
   "metadata": {},
   "source": [
    "44. Check if two sets have the same elements, regardless of their count"
   ]
  },
  {
   "cell_type": "code",
   "execution_count": 72,
   "metadata": {},
   "outputs": [
    {
     "name": "stdout",
     "output_type": "stream",
     "text": [
      "Both sets have the same elements\n"
     ]
    }
   ],
   "source": [
    "s1 = {1, 2, 2, 3, 3, 3}\n",
    "s2 = {1, 2, 3}\n",
    "\n",
    "if s1.issubset(s2) and s2.issubset(s1):\n",
    "    print(\"Both sets have the same elements\")\n",
    "else:\n",
    "    print(\"Sets do not have the same elements\")"
   ]
  },
  {
   "cell_type": "markdown",
   "metadata": {},
   "source": [
    "45. Create a set of the first `n` powers of 2.\n"
   ]
  },
  {
   "cell_type": "code",
   "execution_count": 73,
   "metadata": {},
   "outputs": [
    {
     "name": "stdout",
     "output_type": "stream",
     "text": [
      "{1, 2, 4, 8, 16}\n"
     ]
    }
   ],
   "source": [
    "n = int(input('enter the num: '))\n",
    "s = set()\n",
    "for i in range(n):\n",
    "    s.add(2**i)\n",
    "print(s)"
   ]
  },
  {
   "cell_type": "code",
   "execution_count": 77,
   "metadata": {},
   "outputs": [
    {
     "name": "stdout",
     "output_type": "stream",
     "text": [
      "common element in list and set is saurav\n"
     ]
    }
   ],
   "source": [
    "l = [1,2,3, \"saurav\"]\n",
    "s = {4,'saurav',5,6}\n",
    "for i in l:\n",
    "    if i in s:\n",
    "        pass\n",
    "print('common element in list and set is',i)"
   ]
  },
  {
   "cell_type": "markdown",
   "metadata": {},
   "source": [
    "47. Create a set of the first `n` triangular numbers"
   ]
  },
  {
   "cell_type": "code",
   "execution_count": 78,
   "metadata": {},
   "outputs": [
    {
     "name": "stdout",
     "output_type": "stream",
     "text": [
      "set of first 5 triangular number is {1, 3, 6, 10, 15}\n"
     ]
    }
   ],
   "source": [
    "def set_first_n_triangular_num():\n",
    "    triangular_num_set = set()\n",
    "    for i in range(1,n+1):\n",
    "        T_n = i*(i+1)//2\n",
    "        triangular_num_set.add(T_n)\n",
    "    return triangular_num_set\n",
    "n = int(input(\"enter the num: \"))\n",
    "print(f'set of first {n} triangular number is {set_first_n_triangular_num()}')"
   ]
  },
  {
   "cell_type": "markdown",
   "metadata": {},
   "source": [
    "48. Check if a set contains another set as a subset"
   ]
  },
  {
   "cell_type": "code",
   "execution_count": 79,
   "metadata": {},
   "outputs": [
    {
     "name": "stdout",
     "output_type": "stream",
     "text": [
      "True\n"
     ]
    }
   ],
   "source": [
    "s1 = {1,2,3,4,5,6}\n",
    "s2 = {1,2,3}\n",
    "print(s2.issubset(s1))"
   ]
  },
  {
   "cell_type": "markdown",
   "metadata": {},
   "source": [
    "49. Create a set of alternating 1s and 0s of length `n`."
   ]
  },
  {
   "cell_type": "code",
   "execution_count": 81,
   "metadata": {},
   "outputs": [
    {
     "name": "stdout",
     "output_type": "stream",
     "text": [
      "{0, 1}\n"
     ]
    }
   ],
   "source": [
    "s =set()\n",
    "for i in range(n):\n",
    "    if i%2==0:\n",
    "        s.add(1)\n",
    "    else:\n",
    "        s.add(0)\n",
    "n = int(input(\"enter the num: \"))\n",
    "print(s)"
   ]
  },
  {
   "cell_type": "markdown",
   "metadata": {},
   "source": [
    "50. Merge multiple sets into one."
   ]
  },
  {
   "cell_type": "code",
   "execution_count": 83,
   "metadata": {},
   "outputs": [
    {
     "name": "stdout",
     "output_type": "stream",
     "text": [
      "merged set is {1, 2, 3, 4, 5, 6, 7}\n"
     ]
    }
   ],
   "source": [
    "set1 = {1, 2, 3}\n",
    "set2 = {3, 4, 5}\n",
    "set3 = {5, 6, 7}\n",
    "\n",
    "merged_set = set1.union(set2, set3)\n",
    "\n",
    "print('merged set is',merged_set)"
   ]
  }
 ],
 "metadata": {
  "kernelspec": {
   "display_name": "Python 3",
   "language": "python",
   "name": "python3"
  },
  "language_info": {
   "codemirror_mode": {
    "name": "ipython",
    "version": 3
   },
   "file_extension": ".py",
   "mimetype": "text/x-python",
   "name": "python",
   "nbconvert_exporter": "python",
   "pygments_lexer": "ipython3",
   "version": "3.12.4"
  }
 },
 "nbformat": 4,
 "nbformat_minor": 2
}
